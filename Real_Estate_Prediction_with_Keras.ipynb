{
  "nbformat": 4,
  "nbformat_minor": 0,
  "metadata": {
    "colab": {
      "name": "Real Estate Prediction with Keras.ipynb",
      "provenance": []
    },
    "kernelspec": {
      "name": "python3",
      "display_name": "Python 3"
    },
    "language_info": {
      "name": "python"
    }
  },
  "cells": [
    {
      "cell_type": "markdown",
      "metadata": {
        "id": "L8nI9n5ieqOg"
      },
      "source": [
        "The aim of this project is to predict the house sales in King County, Washington State, USA using Multiple Linear Regression (MLR). The dataset consists of historic data of houses sold between May 2014 to May 2015.\n",
        "We will predict the sales of houses in King County and understand which factors are responsible for higher property value - $650K and above.”\n",
        "\n",
        "The dataset consists of house prices from King County an area in the US State of Washington, this data also covers Seattle. The dataset was obtained from Kaggle. "
      ]
    },
    {
      "cell_type": "code",
      "metadata": {
        "id": "B6kYCB-yC555"
      },
      "source": [
        "import tensorflow as tf"
      ],
      "execution_count": null,
      "outputs": []
    },
    {
      "cell_type": "code",
      "metadata": {
        "id": "sQgIeAdXC-Oa"
      },
      "source": [
        "import pandas as pd\n",
        "import numpy as np\n",
        "import seaborn as sns\n",
        "import matplotlib.pyplot as plt"
      ],
      "execution_count": null,
      "outputs": []
    },
    {
      "cell_type": "code",
      "metadata": {
        "colab": {
          "resources": {
            "http://localhost:8080/nbextensions/google.colab/files.js": {
              "data": "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",
              "ok": true,
              "headers": [
                [
                  "content-type",
                  "application/javascript"
                ]
              ],
              "status": 200,
              "status_text": ""
            }
          },
          "base_uri": "https://localhost:8080/",
          "height": 73
        },
        "id": "YnpCEGrHFfzB",
        "outputId": "b2f0c8b5-67d2-4689-b5c5-a6756ff5869a"
      },
      "source": [
        "from google.colab import files\n",
        "upload = files.upload()"
      ],
      "execution_count": null,
      "outputs": [
        {
          "output_type": "display_data",
          "data": {
            "text/html": [
              "\n",
              "     <input type=\"file\" id=\"files-1580c09a-3fb1-47d2-a08c-bbfe9cfdf380\" name=\"files[]\" multiple disabled\n",
              "        style=\"border:none\" />\n",
              "     <output id=\"result-1580c09a-3fb1-47d2-a08c-bbfe9cfdf380\">\n",
              "      Upload widget is only available when the cell has been executed in the\n",
              "      current browser session. Please rerun this cell to enable.\n",
              "      </output>\n",
              "      <script src=\"/nbextensions/google.colab/files.js\"></script> "
            ],
            "text/plain": [
              "<IPython.core.display.HTML object>"
            ]
          },
          "metadata": {}
        },
        {
          "output_type": "stream",
          "text": [
            "Saving kc_house_data.csv to kc_house_data.csv\n"
          ],
          "name": "stdout"
        }
      ]
    },
    {
      "cell_type": "code",
      "metadata": {
        "id": "d7tHLoPYdnLM"
      },
      "source": [
        "df = pd.read_csv('kc_house_data.csv')"
      ],
      "execution_count": null,
      "outputs": []
    },
    {
      "cell_type": "code",
      "metadata": {
        "colab": {
          "base_uri": "https://localhost:8080/",
          "height": 223
        },
        "id": "s1xDIQlHeKGw",
        "outputId": "a4956eaa-3434-48bc-f449-fef31722f25d"
      },
      "source": [
        "df.head()"
      ],
      "execution_count": null,
      "outputs": [
        {
          "output_type": "execute_result",
          "data": {
            "text/html": [
              "<div>\n",
              "<style scoped>\n",
              "    .dataframe tbody tr th:only-of-type {\n",
              "        vertical-align: middle;\n",
              "    }\n",
              "\n",
              "    .dataframe tbody tr th {\n",
              "        vertical-align: top;\n",
              "    }\n",
              "\n",
              "    .dataframe thead th {\n",
              "        text-align: right;\n",
              "    }\n",
              "</style>\n",
              "<table border=\"1\" class=\"dataframe\">\n",
              "  <thead>\n",
              "    <tr style=\"text-align: right;\">\n",
              "      <th></th>\n",
              "      <th>id</th>\n",
              "      <th>date</th>\n",
              "      <th>price</th>\n",
              "      <th>bedrooms</th>\n",
              "      <th>bathrooms</th>\n",
              "      <th>sqft_living</th>\n",
              "      <th>sqft_lot</th>\n",
              "      <th>floors</th>\n",
              "      <th>waterfront</th>\n",
              "      <th>view</th>\n",
              "      <th>condition</th>\n",
              "      <th>grade</th>\n",
              "      <th>sqft_above</th>\n",
              "      <th>sqft_basement</th>\n",
              "      <th>yr_built</th>\n",
              "      <th>yr_renovated</th>\n",
              "      <th>zipcode</th>\n",
              "      <th>lat</th>\n",
              "      <th>long</th>\n",
              "      <th>sqft_living15</th>\n",
              "      <th>sqft_lot15</th>\n",
              "    </tr>\n",
              "  </thead>\n",
              "  <tbody>\n",
              "    <tr>\n",
              "      <th>0</th>\n",
              "      <td>7129300520</td>\n",
              "      <td>10/13/2014</td>\n",
              "      <td>221900.0</td>\n",
              "      <td>3</td>\n",
              "      <td>1.00</td>\n",
              "      <td>1180</td>\n",
              "      <td>5650</td>\n",
              "      <td>1.0</td>\n",
              "      <td>0</td>\n",
              "      <td>0</td>\n",
              "      <td>3</td>\n",
              "      <td>7</td>\n",
              "      <td>1180</td>\n",
              "      <td>0</td>\n",
              "      <td>1955</td>\n",
              "      <td>0</td>\n",
              "      <td>98178</td>\n",
              "      <td>47.5112</td>\n",
              "      <td>-122.257</td>\n",
              "      <td>1340</td>\n",
              "      <td>5650</td>\n",
              "    </tr>\n",
              "    <tr>\n",
              "      <th>1</th>\n",
              "      <td>6414100192</td>\n",
              "      <td>12/9/2014</td>\n",
              "      <td>538000.0</td>\n",
              "      <td>3</td>\n",
              "      <td>2.25</td>\n",
              "      <td>2570</td>\n",
              "      <td>7242</td>\n",
              "      <td>2.0</td>\n",
              "      <td>0</td>\n",
              "      <td>0</td>\n",
              "      <td>3</td>\n",
              "      <td>7</td>\n",
              "      <td>2170</td>\n",
              "      <td>400</td>\n",
              "      <td>1951</td>\n",
              "      <td>1991</td>\n",
              "      <td>98125</td>\n",
              "      <td>47.7210</td>\n",
              "      <td>-122.319</td>\n",
              "      <td>1690</td>\n",
              "      <td>7639</td>\n",
              "    </tr>\n",
              "    <tr>\n",
              "      <th>2</th>\n",
              "      <td>5631500400</td>\n",
              "      <td>2/25/2015</td>\n",
              "      <td>180000.0</td>\n",
              "      <td>2</td>\n",
              "      <td>1.00</td>\n",
              "      <td>770</td>\n",
              "      <td>10000</td>\n",
              "      <td>1.0</td>\n",
              "      <td>0</td>\n",
              "      <td>0</td>\n",
              "      <td>3</td>\n",
              "      <td>6</td>\n",
              "      <td>770</td>\n",
              "      <td>0</td>\n",
              "      <td>1933</td>\n",
              "      <td>0</td>\n",
              "      <td>98028</td>\n",
              "      <td>47.7379</td>\n",
              "      <td>-122.233</td>\n",
              "      <td>2720</td>\n",
              "      <td>8062</td>\n",
              "    </tr>\n",
              "    <tr>\n",
              "      <th>3</th>\n",
              "      <td>2487200875</td>\n",
              "      <td>12/9/2014</td>\n",
              "      <td>604000.0</td>\n",
              "      <td>4</td>\n",
              "      <td>3.00</td>\n",
              "      <td>1960</td>\n",
              "      <td>5000</td>\n",
              "      <td>1.0</td>\n",
              "      <td>0</td>\n",
              "      <td>0</td>\n",
              "      <td>5</td>\n",
              "      <td>7</td>\n",
              "      <td>1050</td>\n",
              "      <td>910</td>\n",
              "      <td>1965</td>\n",
              "      <td>0</td>\n",
              "      <td>98136</td>\n",
              "      <td>47.5208</td>\n",
              "      <td>-122.393</td>\n",
              "      <td>1360</td>\n",
              "      <td>5000</td>\n",
              "    </tr>\n",
              "    <tr>\n",
              "      <th>4</th>\n",
              "      <td>1954400510</td>\n",
              "      <td>2/18/2015</td>\n",
              "      <td>510000.0</td>\n",
              "      <td>3</td>\n",
              "      <td>2.00</td>\n",
              "      <td>1680</td>\n",
              "      <td>8080</td>\n",
              "      <td>1.0</td>\n",
              "      <td>0</td>\n",
              "      <td>0</td>\n",
              "      <td>3</td>\n",
              "      <td>8</td>\n",
              "      <td>1680</td>\n",
              "      <td>0</td>\n",
              "      <td>1987</td>\n",
              "      <td>0</td>\n",
              "      <td>98074</td>\n",
              "      <td>47.6168</td>\n",
              "      <td>-122.045</td>\n",
              "      <td>1800</td>\n",
              "      <td>7503</td>\n",
              "    </tr>\n",
              "  </tbody>\n",
              "</table>\n",
              "</div>"
            ],
            "text/plain": [
              "           id        date     price  ...     long  sqft_living15  sqft_lot15\n",
              "0  7129300520  10/13/2014  221900.0  ... -122.257           1340        5650\n",
              "1  6414100192   12/9/2014  538000.0  ... -122.319           1690        7639\n",
              "2  5631500400   2/25/2015  180000.0  ... -122.233           2720        8062\n",
              "3  2487200875   12/9/2014  604000.0  ... -122.393           1360        5000\n",
              "4  1954400510   2/18/2015  510000.0  ... -122.045           1800        7503\n",
              "\n",
              "[5 rows x 21 columns]"
            ]
          },
          "metadata": {},
          "execution_count": 5
        }
      ]
    },
    {
      "cell_type": "markdown",
      "metadata": {
        "id": "HOvNj0uTeROZ"
      },
      "source": [
        "The features mean:\n",
        "\n",
        "1)id\n",
        "\n",
        "2)date: Date house was sold(String)\n",
        "\n",
        "3)price: Price of the sold house\n",
        "\n",
        "4)bedrooms: Numer of Bedrooms\n",
        "\n",
        "5)bathrooms: Numer of bathrooms\n",
        "\n",
        "6)sqft_living: Square footage of the living room\n",
        "\n",
        "7)sqrt_log: Square footage of the log\n",
        "\n",
        "8)floors: Total floors in the house\n",
        "\n",
        "9)waterfront: Whether the house has a view a waterfront(1: yes, 0: not)\n",
        "\n",
        "10)view: unknown\n",
        "\n",
        "11)condtion: Condition of the house\n",
        "\n",
        "12)grade: unknown\n",
        "\n",
        "13)sqft_above: Square footage of house apart from basement\n",
        "\n",
        "14)sqft_basement: Square footage of the basement\n",
        "\n",
        "15)yr_built: Built year\n",
        "\n",
        "16)yr_renovated: Year when the house was renovated\n",
        "\n",
        "17)zipcode: zipcode of the house\n",
        "\n",
        "18)lat: Latitude coordinate\n",
        "\n",
        "19)long Longitude coordinate\n",
        "\n",
        "20)sqft_living15: Living room area in 2015(implies some renovations)\n",
        "\n",
        "21)sqrt_lot15: Lot area in 2015(implies some renovations)"
      ]
    },
    {
      "cell_type": "code",
      "metadata": {
        "colab": {
          "base_uri": "https://localhost:8080/"
        },
        "id": "t_R9hg46fUR3",
        "outputId": "0df1530d-15a1-4039-a9f8-b80090e887c7"
      },
      "source": [
        "df.isnull().sum()"
      ],
      "execution_count": null,
      "outputs": [
        {
          "output_type": "execute_result",
          "data": {
            "text/plain": [
              "id               0\n",
              "date             0\n",
              "price            0\n",
              "bedrooms         0\n",
              "bathrooms        0\n",
              "sqft_living      0\n",
              "sqft_lot         0\n",
              "floors           0\n",
              "waterfront       0\n",
              "view             0\n",
              "condition        0\n",
              "grade            0\n",
              "sqft_above       0\n",
              "sqft_basement    0\n",
              "yr_built         0\n",
              "yr_renovated     0\n",
              "zipcode          0\n",
              "lat              0\n",
              "long             0\n",
              "sqft_living15    0\n",
              "sqft_lot15       0\n",
              "dtype: int64"
            ]
          },
          "metadata": {},
          "execution_count": 6
        }
      ]
    },
    {
      "cell_type": "code",
      "metadata": {
        "colab": {
          "base_uri": "https://localhost:8080/",
          "height": 315
        },
        "id": "OTmXOmHnfvRq",
        "outputId": "e64734d9-fc6d-42a7-c890-93c2a3285def"
      },
      "source": [
        "df.describe()"
      ],
      "execution_count": null,
      "outputs": [
        {
          "output_type": "execute_result",
          "data": {
            "text/html": [
              "<div>\n",
              "<style scoped>\n",
              "    .dataframe tbody tr th:only-of-type {\n",
              "        vertical-align: middle;\n",
              "    }\n",
              "\n",
              "    .dataframe tbody tr th {\n",
              "        vertical-align: top;\n",
              "    }\n",
              "\n",
              "    .dataframe thead th {\n",
              "        text-align: right;\n",
              "    }\n",
              "</style>\n",
              "<table border=\"1\" class=\"dataframe\">\n",
              "  <thead>\n",
              "    <tr style=\"text-align: right;\">\n",
              "      <th></th>\n",
              "      <th>id</th>\n",
              "      <th>price</th>\n",
              "      <th>bedrooms</th>\n",
              "      <th>bathrooms</th>\n",
              "      <th>sqft_living</th>\n",
              "      <th>sqft_lot</th>\n",
              "      <th>floors</th>\n",
              "      <th>waterfront</th>\n",
              "      <th>view</th>\n",
              "      <th>condition</th>\n",
              "      <th>grade</th>\n",
              "      <th>sqft_above</th>\n",
              "      <th>sqft_basement</th>\n",
              "      <th>yr_built</th>\n",
              "      <th>yr_renovated</th>\n",
              "      <th>zipcode</th>\n",
              "      <th>lat</th>\n",
              "      <th>long</th>\n",
              "      <th>sqft_living15</th>\n",
              "      <th>sqft_lot15</th>\n",
              "    </tr>\n",
              "  </thead>\n",
              "  <tbody>\n",
              "    <tr>\n",
              "      <th>count</th>\n",
              "      <td>2.159700e+04</td>\n",
              "      <td>2.159700e+04</td>\n",
              "      <td>21597.000000</td>\n",
              "      <td>21597.000000</td>\n",
              "      <td>21597.000000</td>\n",
              "      <td>2.159700e+04</td>\n",
              "      <td>21597.000000</td>\n",
              "      <td>21597.000000</td>\n",
              "      <td>21597.000000</td>\n",
              "      <td>21597.000000</td>\n",
              "      <td>21597.000000</td>\n",
              "      <td>21597.000000</td>\n",
              "      <td>21597.000000</td>\n",
              "      <td>21597.000000</td>\n",
              "      <td>21597.000000</td>\n",
              "      <td>21597.000000</td>\n",
              "      <td>21597.000000</td>\n",
              "      <td>21597.000000</td>\n",
              "      <td>21597.000000</td>\n",
              "      <td>21597.000000</td>\n",
              "    </tr>\n",
              "    <tr>\n",
              "      <th>mean</th>\n",
              "      <td>4.580474e+09</td>\n",
              "      <td>5.402966e+05</td>\n",
              "      <td>3.373200</td>\n",
              "      <td>2.115826</td>\n",
              "      <td>2080.321850</td>\n",
              "      <td>1.509941e+04</td>\n",
              "      <td>1.494096</td>\n",
              "      <td>0.007547</td>\n",
              "      <td>0.234292</td>\n",
              "      <td>3.409825</td>\n",
              "      <td>7.657915</td>\n",
              "      <td>1788.596842</td>\n",
              "      <td>291.725008</td>\n",
              "      <td>1970.999676</td>\n",
              "      <td>84.464787</td>\n",
              "      <td>98077.951845</td>\n",
              "      <td>47.560093</td>\n",
              "      <td>-122.213982</td>\n",
              "      <td>1986.620318</td>\n",
              "      <td>12758.283512</td>\n",
              "    </tr>\n",
              "    <tr>\n",
              "      <th>std</th>\n",
              "      <td>2.876736e+09</td>\n",
              "      <td>3.673681e+05</td>\n",
              "      <td>0.926299</td>\n",
              "      <td>0.768984</td>\n",
              "      <td>918.106125</td>\n",
              "      <td>4.141264e+04</td>\n",
              "      <td>0.539683</td>\n",
              "      <td>0.086549</td>\n",
              "      <td>0.766390</td>\n",
              "      <td>0.650546</td>\n",
              "      <td>1.173200</td>\n",
              "      <td>827.759761</td>\n",
              "      <td>442.667800</td>\n",
              "      <td>29.375234</td>\n",
              "      <td>401.821438</td>\n",
              "      <td>53.513072</td>\n",
              "      <td>0.138552</td>\n",
              "      <td>0.140724</td>\n",
              "      <td>685.230472</td>\n",
              "      <td>27274.441950</td>\n",
              "    </tr>\n",
              "    <tr>\n",
              "      <th>min</th>\n",
              "      <td>1.000102e+06</td>\n",
              "      <td>7.800000e+04</td>\n",
              "      <td>1.000000</td>\n",
              "      <td>0.500000</td>\n",
              "      <td>370.000000</td>\n",
              "      <td>5.200000e+02</td>\n",
              "      <td>1.000000</td>\n",
              "      <td>0.000000</td>\n",
              "      <td>0.000000</td>\n",
              "      <td>1.000000</td>\n",
              "      <td>3.000000</td>\n",
              "      <td>370.000000</td>\n",
              "      <td>0.000000</td>\n",
              "      <td>1900.000000</td>\n",
              "      <td>0.000000</td>\n",
              "      <td>98001.000000</td>\n",
              "      <td>47.155900</td>\n",
              "      <td>-122.519000</td>\n",
              "      <td>399.000000</td>\n",
              "      <td>651.000000</td>\n",
              "    </tr>\n",
              "    <tr>\n",
              "      <th>25%</th>\n",
              "      <td>2.123049e+09</td>\n",
              "      <td>3.220000e+05</td>\n",
              "      <td>3.000000</td>\n",
              "      <td>1.750000</td>\n",
              "      <td>1430.000000</td>\n",
              "      <td>5.040000e+03</td>\n",
              "      <td>1.000000</td>\n",
              "      <td>0.000000</td>\n",
              "      <td>0.000000</td>\n",
              "      <td>3.000000</td>\n",
              "      <td>7.000000</td>\n",
              "      <td>1190.000000</td>\n",
              "      <td>0.000000</td>\n",
              "      <td>1951.000000</td>\n",
              "      <td>0.000000</td>\n",
              "      <td>98033.000000</td>\n",
              "      <td>47.471100</td>\n",
              "      <td>-122.328000</td>\n",
              "      <td>1490.000000</td>\n",
              "      <td>5100.000000</td>\n",
              "    </tr>\n",
              "    <tr>\n",
              "      <th>50%</th>\n",
              "      <td>3.904930e+09</td>\n",
              "      <td>4.500000e+05</td>\n",
              "      <td>3.000000</td>\n",
              "      <td>2.250000</td>\n",
              "      <td>1910.000000</td>\n",
              "      <td>7.618000e+03</td>\n",
              "      <td>1.500000</td>\n",
              "      <td>0.000000</td>\n",
              "      <td>0.000000</td>\n",
              "      <td>3.000000</td>\n",
              "      <td>7.000000</td>\n",
              "      <td>1560.000000</td>\n",
              "      <td>0.000000</td>\n",
              "      <td>1975.000000</td>\n",
              "      <td>0.000000</td>\n",
              "      <td>98065.000000</td>\n",
              "      <td>47.571800</td>\n",
              "      <td>-122.231000</td>\n",
              "      <td>1840.000000</td>\n",
              "      <td>7620.000000</td>\n",
              "    </tr>\n",
              "    <tr>\n",
              "      <th>75%</th>\n",
              "      <td>7.308900e+09</td>\n",
              "      <td>6.450000e+05</td>\n",
              "      <td>4.000000</td>\n",
              "      <td>2.500000</td>\n",
              "      <td>2550.000000</td>\n",
              "      <td>1.068500e+04</td>\n",
              "      <td>2.000000</td>\n",
              "      <td>0.000000</td>\n",
              "      <td>0.000000</td>\n",
              "      <td>4.000000</td>\n",
              "      <td>8.000000</td>\n",
              "      <td>2210.000000</td>\n",
              "      <td>560.000000</td>\n",
              "      <td>1997.000000</td>\n",
              "      <td>0.000000</td>\n",
              "      <td>98118.000000</td>\n",
              "      <td>47.678000</td>\n",
              "      <td>-122.125000</td>\n",
              "      <td>2360.000000</td>\n",
              "      <td>10083.000000</td>\n",
              "    </tr>\n",
              "    <tr>\n",
              "      <th>max</th>\n",
              "      <td>9.900000e+09</td>\n",
              "      <td>7.700000e+06</td>\n",
              "      <td>33.000000</td>\n",
              "      <td>8.000000</td>\n",
              "      <td>13540.000000</td>\n",
              "      <td>1.651359e+06</td>\n",
              "      <td>3.500000</td>\n",
              "      <td>1.000000</td>\n",
              "      <td>4.000000</td>\n",
              "      <td>5.000000</td>\n",
              "      <td>13.000000</td>\n",
              "      <td>9410.000000</td>\n",
              "      <td>4820.000000</td>\n",
              "      <td>2015.000000</td>\n",
              "      <td>2015.000000</td>\n",
              "      <td>98199.000000</td>\n",
              "      <td>47.777600</td>\n",
              "      <td>-121.315000</td>\n",
              "      <td>6210.000000</td>\n",
              "      <td>871200.000000</td>\n",
              "    </tr>\n",
              "  </tbody>\n",
              "</table>\n",
              "</div>"
            ],
            "text/plain": [
              "                 id         price  ...  sqft_living15     sqft_lot15\n",
              "count  2.159700e+04  2.159700e+04  ...   21597.000000   21597.000000\n",
              "mean   4.580474e+09  5.402966e+05  ...    1986.620318   12758.283512\n",
              "std    2.876736e+09  3.673681e+05  ...     685.230472   27274.441950\n",
              "min    1.000102e+06  7.800000e+04  ...     399.000000     651.000000\n",
              "25%    2.123049e+09  3.220000e+05  ...    1490.000000    5100.000000\n",
              "50%    3.904930e+09  4.500000e+05  ...    1840.000000    7620.000000\n",
              "75%    7.308900e+09  6.450000e+05  ...    2360.000000   10083.000000\n",
              "max    9.900000e+09  7.700000e+06  ...    6210.000000  871200.000000\n",
              "\n",
              "[8 rows x 20 columns]"
            ]
          },
          "metadata": {},
          "execution_count": 7
        }
      ]
    },
    {
      "cell_type": "code",
      "metadata": {
        "colab": {
          "base_uri": "https://localhost:8080/"
        },
        "id": "9oFfUU8cfzWw",
        "outputId": "4b80f144-f643-4233-d043-d26ee3b4272d"
      },
      "source": [
        "df.info()"
      ],
      "execution_count": null,
      "outputs": [
        {
          "output_type": "stream",
          "text": [
            "<class 'pandas.core.frame.DataFrame'>\n",
            "RangeIndex: 21597 entries, 0 to 21596\n",
            "Data columns (total 21 columns):\n",
            " #   Column         Non-Null Count  Dtype  \n",
            "---  ------         --------------  -----  \n",
            " 0   id             21597 non-null  int64  \n",
            " 1   date           21597 non-null  object \n",
            " 2   price          21597 non-null  float64\n",
            " 3   bedrooms       21597 non-null  int64  \n",
            " 4   bathrooms      21597 non-null  float64\n",
            " 5   sqft_living    21597 non-null  int64  \n",
            " 6   sqft_lot       21597 non-null  int64  \n",
            " 7   floors         21597 non-null  float64\n",
            " 8   waterfront     21597 non-null  int64  \n",
            " 9   view           21597 non-null  int64  \n",
            " 10  condition      21597 non-null  int64  \n",
            " 11  grade          21597 non-null  int64  \n",
            " 12  sqft_above     21597 non-null  int64  \n",
            " 13  sqft_basement  21597 non-null  int64  \n",
            " 14  yr_built       21597 non-null  int64  \n",
            " 15  yr_renovated   21597 non-null  int64  \n",
            " 16  zipcode        21597 non-null  int64  \n",
            " 17  lat            21597 non-null  float64\n",
            " 18  long           21597 non-null  float64\n",
            " 19  sqft_living15  21597 non-null  int64  \n",
            " 20  sqft_lot15     21597 non-null  int64  \n",
            "dtypes: float64(5), int64(15), object(1)\n",
            "memory usage: 3.5+ MB\n"
          ],
          "name": "stdout"
        }
      ]
    },
    {
      "cell_type": "markdown",
      "metadata": {
        "id": "dFTt06BIfyQK"
      },
      "source": [
        "##**EDA**"
      ]
    },
    {
      "cell_type": "code",
      "metadata": {
        "colab": {
          "base_uri": "https://localhost:8080/",
          "height": 470
        },
        "id": "PVW18YyxgD_W",
        "outputId": "4039aef4-188b-4aca-e44c-8f79c8085d07"
      },
      "source": [
        "plt.figure(figsize=(10,6))\n",
        "sns.distplot(df['price'])"
      ],
      "execution_count": null,
      "outputs": [
        {
          "output_type": "stream",
          "text": [
            "/usr/local/lib/python3.7/dist-packages/seaborn/distributions.py:2557: FutureWarning: `distplot` is a deprecated function and will be removed in a future version. Please adapt your code to use either `displot` (a figure-level function with similar flexibility) or `histplot` (an axes-level function for histograms).\n",
            "  warnings.warn(msg, FutureWarning)\n"
          ],
          "name": "stderr"
        },
        {
          "output_type": "execute_result",
          "data": {
            "text/plain": [
              "<matplotlib.axes._subplots.AxesSubplot at 0x7f1489164dd0>"
            ]
          },
          "metadata": {},
          "execution_count": 9
        },
        {
          "output_type": "display_data",
          "data": {
            "image/png": "[encoded data removed]",
            "text/plain": [
              "<Figure size 720x432 with 1 Axes>"
            ]
          },
          "metadata": {
            "needs_background": "light"
          }
        }
      ]
    },
    {
      "cell_type": "markdown",
      "metadata": {
        "id": "Xx_KbyHIG2Ta"
      },
      "source": [
        "Most of the houses are under 1.5 million dollars and the rest are the outliers of the dataset"
      ]
    },
    {
      "cell_type": "code",
      "metadata": {
        "colab": {
          "base_uri": "https://localhost:8080/",
          "height": 350
        },
        "id": "sFIFyyqaFJV7",
        "outputId": "da9b469d-adf5-49c5-fa51-3efd59fdeb1a"
      },
      "source": [
        "sns.countplot(df['bedrooms'])"
      ],
      "execution_count": null,
      "outputs": [
        {
          "output_type": "stream",
          "text": [
            "/usr/local/lib/python3.7/dist-packages/seaborn/_decorators.py:43: FutureWarning: Pass the following variable as a keyword arg: x. From version 0.12, the only valid positional argument will be `data`, and passing other arguments without an explicit keyword will result in an error or misinterpretation.\n",
            "  FutureWarning\n"
          ],
          "name": "stderr"
        },
        {
          "output_type": "execute_result",
          "data": {
            "text/plain": [
              "<matplotlib.axes._subplots.AxesSubplot at 0x7f142b3f7390>"
            ]
          },
          "metadata": {},
          "execution_count": 10
        },
        {
          "output_type": "display_data",
          "data": {
            "image/png": "[encoded data removed]",
            "text/plain": [
              "<Figure size 432x288 with 1 Axes>"
            ]
          },
          "metadata": {
            "needs_background": "light"
          }
        }
      ]
    },
    {
      "cell_type": "markdown",
      "metadata": {
        "id": "TWO9UJ39HoCS"
      },
      "source": [
        "Most of the houses have 2-5 bedrooms "
      ]
    },
    {
      "cell_type": "code",
      "metadata": {
        "colab": {
          "base_uri": "https://localhost:8080/"
        },
        "id": "ysH1-fSyH0Qm",
        "outputId": "b34885e7-6c9c-4e15-dcef-3d9be0e2f1bd"
      },
      "source": [
        "df.corr()['price'].sort_values()"
      ],
      "execution_count": null,
      "outputs": [
        {
          "output_type": "execute_result",
          "data": {
            "text/plain": [
              "zipcode         -0.053402\n",
              "id              -0.016772\n",
              "long             0.022036\n",
              "condition        0.036056\n",
              "yr_built         0.053953\n",
              "sqft_lot15       0.082845\n",
              "sqft_lot         0.089876\n",
              "yr_renovated     0.126424\n",
              "floors           0.256804\n",
              "waterfront       0.266398\n",
              "lat              0.306692\n",
              "bedrooms         0.308787\n",
              "sqft_basement    0.323799\n",
              "view             0.397370\n",
              "bathrooms        0.525906\n",
              "sqft_living15    0.585241\n",
              "sqft_above       0.605368\n",
              "grade            0.667951\n",
              "sqft_living      0.701917\n",
              "price            1.000000\n",
              "Name: price, dtype: float64"
            ]
          },
          "metadata": {},
          "execution_count": 11
        }
      ]
    },
    {
      "cell_type": "markdown",
      "metadata": {
        "id": "Jo6A8z-gIBbk"
      },
      "source": [
        "Now we will check highly correlated features with price using scatterplots"
      ]
    },
    {
      "cell_type": "code",
      "metadata": {
        "colab": {
          "base_uri": "https://localhost:8080/",
          "height": 297
        },
        "id": "z7nAA9y_H9Zh",
        "outputId": "bad0e7c1-5849-466c-8e5b-961cab653489"
      },
      "source": [
        "sns.scatterplot(x='price',y='sqft_living',data=df)"
      ],
      "execution_count": null,
      "outputs": [
        {
          "output_type": "execute_result",
          "data": {
            "text/plain": [
              "<matplotlib.axes._subplots.AxesSubplot at 0x7f142b3a0b50>"
            ]
          },
          "metadata": {},
          "execution_count": 12
        },
        {
          "output_type": "display_data",
          "data": {
            "image/png": "[encoded data removed]",
            "text/plain": [
              "<Figure size 432x288 with 1 Axes>"
            ]
          },
          "metadata": {
            "needs_background": "light"
          }
        }
      ]
    },
    {
      "cell_type": "code",
      "metadata": {
        "colab": {
          "base_uri": "https://localhost:8080/",
          "height": 405
        },
        "id": "2bIq-GdSIUk7",
        "outputId": "204d64ef-1929-439d-86d9-adbcac3d24d7"
      },
      "source": [
        "plt.figure(figsize=(10,6))\n",
        "sns.scatterplot(x='price',y='long',data=df)"
      ],
      "execution_count": null,
      "outputs": [
        {
          "output_type": "execute_result",
          "data": {
            "text/plain": [
              "<matplotlib.axes._subplots.AxesSubplot at 0x7f142b2ab810>"
            ]
          },
          "metadata": {},
          "execution_count": 13
        },
        {
          "output_type": "display_data",
          "data": {
            "image/png": "[encoded data removed]",
            "text/plain": [
              "<Figure size 720x432 with 1 Axes>"
            ]
          },
          "metadata": {
            "needs_background": "light"
          }
        }
      ]
    },
    {
      "cell_type": "markdown",
      "metadata": {
        "id": "Mt7X7uT_L4aN"
      },
      "source": [
        "This shows that longitude also has a say in price distribution. For example, at longitude -122.2, the properties are expensive."
      ]
    },
    {
      "cell_type": "code",
      "metadata": {
        "colab": {
          "base_uri": "https://localhost:8080/",
          "height": 405
        },
        "id": "-SUNf8AnL2iL",
        "outputId": "0c435aa1-e626-4e73-9613-de54b7246d4f"
      },
      "source": [
        "plt.figure(figsize=(10,6))\n",
        "sns.scatterplot(x='price',y='lat',data=df)"
      ],
      "execution_count": null,
      "outputs": [
        {
          "output_type": "execute_result",
          "data": {
            "text/plain": [
              "<matplotlib.axes._subplots.AxesSubplot at 0x7f142b29d490>"
            ]
          },
          "metadata": {},
          "execution_count": 14
        },
        {
          "output_type": "display_data",
          "data": {
            "image/png": "[encoded data removed]",
            "text/plain": [
              "<Figure size 720x432 with 1 Axes>"
            ]
          },
          "metadata": {
            "needs_background": "light"
          }
        }
      ]
    },
    {
      "cell_type": "markdown",
      "metadata": {
        "id": "X2ytE_y5MYu6"
      },
      "source": [
        "Same goes for latitude as well so the area where latitude is 47.6 and longitude is -122.2 is a posh area in the county"
      ]
    },
    {
      "cell_type": "code",
      "metadata": {
        "colab": {
          "base_uri": "https://localhost:8080/",
          "height": 405
        },
        "id": "FvzGJwetMWVo",
        "outputId": "4af37d11-e2dd-4c96-bab3-c0c1900fe66b"
      },
      "source": [
        "plt.figure(figsize=(10,6))\n",
        "sns.scatterplot(x='long',y='lat',data=df,hue='price')"
      ],
      "execution_count": null,
      "outputs": [
        {
          "output_type": "execute_result",
          "data": {
            "text/plain": [
              "<matplotlib.axes._subplots.AxesSubplot at 0x7f142b2abb90>"
            ]
          },
          "metadata": {},
          "execution_count": 15
        },
        {
          "output_type": "display_data",
          "data": {
            "image/png": "[encoded data removed]",
            "text/plain": [
              "<Figure size 720x432 with 1 Axes>"
            ]
          },
          "metadata": {
            "needs_background": "light"
          }
        }
      ]
    },
    {
      "cell_type": "markdown",
      "metadata": {
        "id": "bLiw-EFzNJnY"
      },
      "source": [
        "This looks like the map of Kings County and we can see the expensive area which we deduced using the earlier scatterplots. But the map is not clean because of the various outliers which we still haven't taken care of."
      ]
    },
    {
      "cell_type": "code",
      "metadata": {
        "colab": {
          "base_uri": "https://localhost:8080/",
          "height": 685
        },
        "id": "GvmOGMsDNDIZ",
        "outputId": "5bdc34fc-a10c-494b-cbd1-1c181a58a260"
      },
      "source": [
        "df.sort_values('price',ascending=False).head(20)"
      ],
      "execution_count": null,
      "outputs": [
        {
          "output_type": "execute_result",
          "data": {
            "text/html": [
              "<div>\n",
              "<style scoped>\n",
              "    .dataframe tbody tr th:only-of-type {\n",
              "        vertical-align: middle;\n",
              "    }\n",
              "\n",
              "    .dataframe tbody tr th {\n",
              "        vertical-align: top;\n",
              "    }\n",
              "\n",
              "    .dataframe thead th {\n",
              "        text-align: right;\n",
              "    }\n",
              "</style>\n",
              "<table border=\"1\" class=\"dataframe\">\n",
              "  <thead>\n",
              "    <tr style=\"text-align: right;\">\n",
              "      <th></th>\n",
              "      <th>id</th>\n",
              "      <th>date</th>\n",
              "      <th>price</th>\n",
              "      <th>bedrooms</th>\n",
              "      <th>bathrooms</th>\n",
              "      <th>sqft_living</th>\n",
              "      <th>sqft_lot</th>\n",
              "      <th>floors</th>\n",
              "      <th>waterfront</th>\n",
              "      <th>view</th>\n",
              "      <th>condition</th>\n",
              "      <th>grade</th>\n",
              "      <th>sqft_above</th>\n",
              "      <th>sqft_basement</th>\n",
              "      <th>yr_built</th>\n",
              "      <th>yr_renovated</th>\n",
              "      <th>zipcode</th>\n",
              "      <th>lat</th>\n",
              "      <th>long</th>\n",
              "      <th>sqft_living15</th>\n",
              "      <th>sqft_lot15</th>\n",
              "    </tr>\n",
              "  </thead>\n",
              "  <tbody>\n",
              "    <tr>\n",
              "      <th>7245</th>\n",
              "      <td>6762700020</td>\n",
              "      <td>10/13/2014</td>\n",
              "      <td>7700000.0</td>\n",
              "      <td>6</td>\n",
              "      <td>8.00</td>\n",
              "      <td>12050</td>\n",
              "      <td>27600</td>\n",
              "      <td>2.5</td>\n",
              "      <td>0</td>\n",
              "      <td>3</td>\n",
              "      <td>4</td>\n",
              "      <td>13</td>\n",
              "      <td>8570</td>\n",
              "      <td>3480</td>\n",
              "      <td>1910</td>\n",
              "      <td>1987</td>\n",
              "      <td>98102</td>\n",
              "      <td>47.6298</td>\n",
              "      <td>-122.323</td>\n",
              "      <td>3940</td>\n",
              "      <td>8800</td>\n",
              "    </tr>\n",
              "    <tr>\n",
              "      <th>3910</th>\n",
              "      <td>9808700762</td>\n",
              "      <td>6/11/2014</td>\n",
              "      <td>7060000.0</td>\n",
              "      <td>5</td>\n",
              "      <td>4.50</td>\n",
              "      <td>10040</td>\n",
              "      <td>37325</td>\n",
              "      <td>2.0</td>\n",
              "      <td>1</td>\n",
              "      <td>2</td>\n",
              "      <td>3</td>\n",
              "      <td>11</td>\n",
              "      <td>7680</td>\n",
              "      <td>2360</td>\n",
              "      <td>1940</td>\n",
              "      <td>2001</td>\n",
              "      <td>98004</td>\n",
              "      <td>47.6500</td>\n",
              "      <td>-122.214</td>\n",
              "      <td>3930</td>\n",
              "      <td>25449</td>\n",
              "    </tr>\n",
              "    <tr>\n",
              "      <th>9245</th>\n",
              "      <td>9208900037</td>\n",
              "      <td>9/19/2014</td>\n",
              "      <td>6890000.0</td>\n",
              "      <td>6</td>\n",
              "      <td>7.75</td>\n",
              "      <td>9890</td>\n",
              "      <td>31374</td>\n",
              "      <td>2.0</td>\n",
              "      <td>0</td>\n",
              "      <td>4</td>\n",
              "      <td>3</td>\n",
              "      <td>13</td>\n",
              "      <td>8860</td>\n",
              "      <td>1030</td>\n",
              "      <td>2001</td>\n",
              "      <td>0</td>\n",
              "      <td>98039</td>\n",
              "      <td>47.6305</td>\n",
              "      <td>-122.240</td>\n",
              "      <td>4540</td>\n",
              "      <td>42730</td>\n",
              "    </tr>\n",
              "    <tr>\n",
              "      <th>4407</th>\n",
              "      <td>2470100110</td>\n",
              "      <td>8/4/2014</td>\n",
              "      <td>5570000.0</td>\n",
              "      <td>5</td>\n",
              "      <td>5.75</td>\n",
              "      <td>9200</td>\n",
              "      <td>35069</td>\n",
              "      <td>2.0</td>\n",
              "      <td>0</td>\n",
              "      <td>0</td>\n",
              "      <td>3</td>\n",
              "      <td>13</td>\n",
              "      <td>6200</td>\n",
              "      <td>3000</td>\n",
              "      <td>2001</td>\n",
              "      <td>0</td>\n",
              "      <td>98039</td>\n",
              "      <td>47.6289</td>\n",
              "      <td>-122.233</td>\n",
              "      <td>3560</td>\n",
              "      <td>24345</td>\n",
              "    </tr>\n",
              "    <tr>\n",
              "      <th>1446</th>\n",
              "      <td>8907500070</td>\n",
              "      <td>4/13/2015</td>\n",
              "      <td>5350000.0</td>\n",
              "      <td>5</td>\n",
              "      <td>5.00</td>\n",
              "      <td>8000</td>\n",
              "      <td>23985</td>\n",
              "      <td>2.0</td>\n",
              "      <td>0</td>\n",
              "      <td>4</td>\n",
              "      <td>3</td>\n",
              "      <td>12</td>\n",
              "      <td>6720</td>\n",
              "      <td>1280</td>\n",
              "      <td>2009</td>\n",
              "      <td>0</td>\n",
              "      <td>98004</td>\n",
              "      <td>47.6232</td>\n",
              "      <td>-122.220</td>\n",
              "      <td>4600</td>\n",
              "      <td>21750</td>\n",
              "    </tr>\n",
              "    <tr>\n",
              "      <th>1313</th>\n",
              "      <td>7558700030</td>\n",
              "      <td>4/13/2015</td>\n",
              "      <td>5300000.0</td>\n",
              "      <td>6</td>\n",
              "      <td>6.00</td>\n",
              "      <td>7390</td>\n",
              "      <td>24829</td>\n",
              "      <td>2.0</td>\n",
              "      <td>1</td>\n",
              "      <td>4</td>\n",
              "      <td>4</td>\n",
              "      <td>12</td>\n",
              "      <td>5000</td>\n",
              "      <td>2390</td>\n",
              "      <td>1991</td>\n",
              "      <td>0</td>\n",
              "      <td>98040</td>\n",
              "      <td>47.5631</td>\n",
              "      <td>-122.210</td>\n",
              "      <td>4320</td>\n",
              "      <td>24619</td>\n",
              "    </tr>\n",
              "    <tr>\n",
              "      <th>1162</th>\n",
              "      <td>1247600105</td>\n",
              "      <td>10/20/2014</td>\n",
              "      <td>5110000.0</td>\n",
              "      <td>5</td>\n",
              "      <td>5.25</td>\n",
              "      <td>8010</td>\n",
              "      <td>45517</td>\n",
              "      <td>2.0</td>\n",
              "      <td>1</td>\n",
              "      <td>4</td>\n",
              "      <td>3</td>\n",
              "      <td>12</td>\n",
              "      <td>5990</td>\n",
              "      <td>2020</td>\n",
              "      <td>1999</td>\n",
              "      <td>0</td>\n",
              "      <td>98033</td>\n",
              "      <td>47.6767</td>\n",
              "      <td>-122.211</td>\n",
              "      <td>3430</td>\n",
              "      <td>26788</td>\n",
              "    </tr>\n",
              "    <tr>\n",
              "      <th>8085</th>\n",
              "      <td>1924059029</td>\n",
              "      <td>6/17/2014</td>\n",
              "      <td>4670000.0</td>\n",
              "      <td>5</td>\n",
              "      <td>6.75</td>\n",
              "      <td>9640</td>\n",
              "      <td>13068</td>\n",
              "      <td>1.0</td>\n",
              "      <td>1</td>\n",
              "      <td>4</td>\n",
              "      <td>3</td>\n",
              "      <td>12</td>\n",
              "      <td>4820</td>\n",
              "      <td>4820</td>\n",
              "      <td>1983</td>\n",
              "      <td>2009</td>\n",
              "      <td>98040</td>\n",
              "      <td>47.5570</td>\n",
              "      <td>-122.210</td>\n",
              "      <td>3270</td>\n",
              "      <td>10454</td>\n",
              "    </tr>\n",
              "    <tr>\n",
              "      <th>2624</th>\n",
              "      <td>7738500731</td>\n",
              "      <td>8/15/2014</td>\n",
              "      <td>4500000.0</td>\n",
              "      <td>5</td>\n",
              "      <td>5.50</td>\n",
              "      <td>6640</td>\n",
              "      <td>40014</td>\n",
              "      <td>2.0</td>\n",
              "      <td>1</td>\n",
              "      <td>4</td>\n",
              "      <td>3</td>\n",
              "      <td>12</td>\n",
              "      <td>6350</td>\n",
              "      <td>290</td>\n",
              "      <td>2004</td>\n",
              "      <td>0</td>\n",
              "      <td>98155</td>\n",
              "      <td>47.7493</td>\n",
              "      <td>-122.280</td>\n",
              "      <td>3030</td>\n",
              "      <td>23408</td>\n",
              "    </tr>\n",
              "    <tr>\n",
              "      <th>8629</th>\n",
              "      <td>3835500195</td>\n",
              "      <td>6/18/2014</td>\n",
              "      <td>4490000.0</td>\n",
              "      <td>4</td>\n",
              "      <td>3.00</td>\n",
              "      <td>6430</td>\n",
              "      <td>27517</td>\n",
              "      <td>2.0</td>\n",
              "      <td>0</td>\n",
              "      <td>0</td>\n",
              "      <td>3</td>\n",
              "      <td>12</td>\n",
              "      <td>6430</td>\n",
              "      <td>0</td>\n",
              "      <td>2001</td>\n",
              "      <td>0</td>\n",
              "      <td>98004</td>\n",
              "      <td>47.6208</td>\n",
              "      <td>-122.219</td>\n",
              "      <td>3720</td>\n",
              "      <td>14592</td>\n",
              "    </tr>\n",
              "    <tr>\n",
              "      <th>12358</th>\n",
              "      <td>6065300370</td>\n",
              "      <td>5/6/2015</td>\n",
              "      <td>4210000.0</td>\n",
              "      <td>5</td>\n",
              "      <td>6.00</td>\n",
              "      <td>7440</td>\n",
              "      <td>21540</td>\n",
              "      <td>2.0</td>\n",
              "      <td>0</td>\n",
              "      <td>0</td>\n",
              "      <td>3</td>\n",
              "      <td>12</td>\n",
              "      <td>5550</td>\n",
              "      <td>1890</td>\n",
              "      <td>2003</td>\n",
              "      <td>0</td>\n",
              "      <td>98006</td>\n",
              "      <td>47.5692</td>\n",
              "      <td>-122.189</td>\n",
              "      <td>4740</td>\n",
              "      <td>19329</td>\n",
              "    </tr>\n",
              "    <tr>\n",
              "      <th>4145</th>\n",
              "      <td>6447300265</td>\n",
              "      <td>10/14/2014</td>\n",
              "      <td>4000000.0</td>\n",
              "      <td>4</td>\n",
              "      <td>5.50</td>\n",
              "      <td>7080</td>\n",
              "      <td>16573</td>\n",
              "      <td>2.0</td>\n",
              "      <td>0</td>\n",
              "      <td>0</td>\n",
              "      <td>3</td>\n",
              "      <td>12</td>\n",
              "      <td>5760</td>\n",
              "      <td>1320</td>\n",
              "      <td>2008</td>\n",
              "      <td>0</td>\n",
              "      <td>98039</td>\n",
              "      <td>47.6151</td>\n",
              "      <td>-122.224</td>\n",
              "      <td>3140</td>\n",
              "      <td>15996</td>\n",
              "    </tr>\n",
              "    <tr>\n",
              "      <th>2083</th>\n",
              "      <td>8106100105</td>\n",
              "      <td>11/14/2014</td>\n",
              "      <td>3850000.0</td>\n",
              "      <td>4</td>\n",
              "      <td>4.25</td>\n",
              "      <td>5770</td>\n",
              "      <td>21300</td>\n",
              "      <td>2.0</td>\n",
              "      <td>1</td>\n",
              "      <td>4</td>\n",
              "      <td>4</td>\n",
              "      <td>11</td>\n",
              "      <td>5770</td>\n",
              "      <td>0</td>\n",
              "      <td>1980</td>\n",
              "      <td>0</td>\n",
              "      <td>98040</td>\n",
              "      <td>47.5850</td>\n",
              "      <td>-122.222</td>\n",
              "      <td>4620</td>\n",
              "      <td>22748</td>\n",
              "    </tr>\n",
              "    <tr>\n",
              "      <th>7028</th>\n",
              "      <td>853200010</td>\n",
              "      <td>7/1/2014</td>\n",
              "      <td>3800000.0</td>\n",
              "      <td>5</td>\n",
              "      <td>5.50</td>\n",
              "      <td>7050</td>\n",
              "      <td>42840</td>\n",
              "      <td>1.0</td>\n",
              "      <td>0</td>\n",
              "      <td>2</td>\n",
              "      <td>4</td>\n",
              "      <td>13</td>\n",
              "      <td>4320</td>\n",
              "      <td>2730</td>\n",
              "      <td>1978</td>\n",
              "      <td>0</td>\n",
              "      <td>98004</td>\n",
              "      <td>47.6229</td>\n",
              "      <td>-122.220</td>\n",
              "      <td>5070</td>\n",
              "      <td>20570</td>\n",
              "    </tr>\n",
              "    <tr>\n",
              "      <th>19002</th>\n",
              "      <td>2303900100</td>\n",
              "      <td>9/11/2014</td>\n",
              "      <td>3800000.0</td>\n",
              "      <td>3</td>\n",
              "      <td>4.25</td>\n",
              "      <td>5510</td>\n",
              "      <td>35000</td>\n",
              "      <td>2.0</td>\n",
              "      <td>0</td>\n",
              "      <td>4</td>\n",
              "      <td>3</td>\n",
              "      <td>13</td>\n",
              "      <td>4910</td>\n",
              "      <td>600</td>\n",
              "      <td>1997</td>\n",
              "      <td>0</td>\n",
              "      <td>98177</td>\n",
              "      <td>47.7296</td>\n",
              "      <td>-122.370</td>\n",
              "      <td>3430</td>\n",
              "      <td>45302</td>\n",
              "    </tr>\n",
              "    <tr>\n",
              "      <th>16288</th>\n",
              "      <td>7397300170</td>\n",
              "      <td>5/30/2014</td>\n",
              "      <td>3710000.0</td>\n",
              "      <td>4</td>\n",
              "      <td>3.50</td>\n",
              "      <td>5550</td>\n",
              "      <td>28078</td>\n",
              "      <td>2.0</td>\n",
              "      <td>0</td>\n",
              "      <td>2</td>\n",
              "      <td>4</td>\n",
              "      <td>12</td>\n",
              "      <td>3350</td>\n",
              "      <td>2200</td>\n",
              "      <td>2000</td>\n",
              "      <td>0</td>\n",
              "      <td>98039</td>\n",
              "      <td>47.6395</td>\n",
              "      <td>-122.234</td>\n",
              "      <td>2980</td>\n",
              "      <td>19602</td>\n",
              "    </tr>\n",
              "    <tr>\n",
              "      <th>18467</th>\n",
              "      <td>4389201095</td>\n",
              "      <td>5/11/2015</td>\n",
              "      <td>3650000.0</td>\n",
              "      <td>5</td>\n",
              "      <td>3.75</td>\n",
              "      <td>5020</td>\n",
              "      <td>8694</td>\n",
              "      <td>2.0</td>\n",
              "      <td>0</td>\n",
              "      <td>1</td>\n",
              "      <td>3</td>\n",
              "      <td>12</td>\n",
              "      <td>3970</td>\n",
              "      <td>1050</td>\n",
              "      <td>2007</td>\n",
              "      <td>0</td>\n",
              "      <td>98004</td>\n",
              "      <td>47.6146</td>\n",
              "      <td>-122.213</td>\n",
              "      <td>4190</td>\n",
              "      <td>11275</td>\n",
              "    </tr>\n",
              "    <tr>\n",
              "      <th>6502</th>\n",
              "      <td>4217402115</td>\n",
              "      <td>4/21/2015</td>\n",
              "      <td>3650000.0</td>\n",
              "      <td>6</td>\n",
              "      <td>4.75</td>\n",
              "      <td>5480</td>\n",
              "      <td>19401</td>\n",
              "      <td>1.5</td>\n",
              "      <td>1</td>\n",
              "      <td>4</td>\n",
              "      <td>5</td>\n",
              "      <td>11</td>\n",
              "      <td>3910</td>\n",
              "      <td>1570</td>\n",
              "      <td>1936</td>\n",
              "      <td>0</td>\n",
              "      <td>98105</td>\n",
              "      <td>47.6515</td>\n",
              "      <td>-122.277</td>\n",
              "      <td>3510</td>\n",
              "      <td>15810</td>\n",
              "    </tr>\n",
              "    <tr>\n",
              "      <th>15241</th>\n",
              "      <td>2425049063</td>\n",
              "      <td>9/11/2014</td>\n",
              "      <td>3640000.0</td>\n",
              "      <td>4</td>\n",
              "      <td>3.25</td>\n",
              "      <td>4830</td>\n",
              "      <td>22257</td>\n",
              "      <td>2.0</td>\n",
              "      <td>1</td>\n",
              "      <td>4</td>\n",
              "      <td>4</td>\n",
              "      <td>11</td>\n",
              "      <td>4830</td>\n",
              "      <td>0</td>\n",
              "      <td>1990</td>\n",
              "      <td>0</td>\n",
              "      <td>98039</td>\n",
              "      <td>47.6409</td>\n",
              "      <td>-122.241</td>\n",
              "      <td>3820</td>\n",
              "      <td>25582</td>\n",
              "    </tr>\n",
              "    <tr>\n",
              "      <th>19133</th>\n",
              "      <td>3625049042</td>\n",
              "      <td>10/11/2014</td>\n",
              "      <td>3640000.0</td>\n",
              "      <td>5</td>\n",
              "      <td>6.00</td>\n",
              "      <td>5490</td>\n",
              "      <td>19897</td>\n",
              "      <td>2.0</td>\n",
              "      <td>0</td>\n",
              "      <td>0</td>\n",
              "      <td>3</td>\n",
              "      <td>12</td>\n",
              "      <td>5490</td>\n",
              "      <td>0</td>\n",
              "      <td>2005</td>\n",
              "      <td>0</td>\n",
              "      <td>98039</td>\n",
              "      <td>47.6165</td>\n",
              "      <td>-122.236</td>\n",
              "      <td>2910</td>\n",
              "      <td>17600</td>\n",
              "    </tr>\n",
              "  </tbody>\n",
              "</table>\n",
              "</div>"
            ],
            "text/plain": [
              "               id        date      price  ...     long  sqft_living15  sqft_lot15\n",
              "7245   6762700020  10/13/2014  7700000.0  ... -122.323           3940        8800\n",
              "3910   9808700762   6/11/2014  7060000.0  ... -122.214           3930       25449\n",
              "9245   9208900037   9/19/2014  6890000.0  ... -122.240           4540       42730\n",
              "4407   2470100110    8/4/2014  5570000.0  ... -122.233           3560       24345\n",
              "1446   8907500070   4/13/2015  5350000.0  ... -122.220           4600       21750\n",
              "1313   7558700030   4/13/2015  5300000.0  ... -122.210           4320       24619\n",
              "1162   1247600105  10/20/2014  5110000.0  ... -122.211           3430       26788\n",
              "8085   1924059029   6/17/2014  4670000.0  ... -122.210           3270       10454\n",
              "2624   7738500731   8/15/2014  4500000.0  ... -122.280           3030       23408\n",
              "8629   3835500195   6/18/2014  4490000.0  ... -122.219           3720       14592\n",
              "12358  6065300370    5/6/2015  4210000.0  ... -122.189           4740       19329\n",
              "4145   6447300265  10/14/2014  4000000.0  ... -122.224           3140       15996\n",
              "2083   8106100105  11/14/2014  3850000.0  ... -122.222           4620       22748\n",
              "7028    853200010    7/1/2014  3800000.0  ... -122.220           5070       20570\n",
              "19002  2303900100   9/11/2014  3800000.0  ... -122.370           3430       45302\n",
              "16288  7397300170   5/30/2014  3710000.0  ... -122.234           2980       19602\n",
              "18467  4389201095   5/11/2015  3650000.0  ... -122.213           4190       11275\n",
              "6502   4217402115   4/21/2015  3650000.0  ... -122.277           3510       15810\n",
              "15241  2425049063   9/11/2014  3640000.0  ... -122.241           3820       25582\n",
              "19133  3625049042  10/11/2014  3640000.0  ... -122.236           2910       17600\n",
              "\n",
              "[20 rows x 21 columns]"
            ]
          },
          "metadata": {},
          "execution_count": 16
        }
      ]
    },
    {
      "cell_type": "markdown",
      "metadata": {
        "id": "WigCDQ6yNxqw"
      },
      "source": [
        "The most expensive house is of 7.7 million dollars but after the top few houses, the price gradually moves to around 3-4 million dollars. So now we will make a new dataframe without the top 1 percent houses."
      ]
    },
    {
      "cell_type": "code",
      "metadata": {
        "id": "3Ay3n4PtOZy_"
      },
      "source": [
        "df1 = df.sort_values('price',ascending=False).iloc[216:]\n"
      ],
      "execution_count": null,
      "outputs": []
    },
    {
      "cell_type": "code",
      "metadata": {
        "colab": {
          "base_uri": "https://localhost:8080/",
          "height": 405
        },
        "id": "-ivUk71uObPJ",
        "outputId": "89112f9d-52cd-4cc5-a831-2f5054c57ee8"
      },
      "source": [
        "plt.figure(figsize=(10,6))\n",
        "sns.scatterplot(x='long',y='lat',data=df1,edgecolor=None,palette='RdYlGn',hue='price')"
      ],
      "execution_count": null,
      "outputs": [
        {
          "output_type": "execute_result",
          "data": {
            "text/plain": [
              "<matplotlib.axes._subplots.AxesSubplot at 0x7f14299dbb50>"
            ]
          },
          "metadata": {},
          "execution_count": 18
        },
        {
          "output_type": "display_data",
          "data": {
            "image/png": "[encoded data removed]",
            "text/plain": [
              "<Figure size 720x432 with 1 Axes>"
            ]
          },
          "metadata": {
            "needs_background": "light"
          }
        }
      ]
    },
    {
      "cell_type": "code",
      "metadata": {
        "colab": {
          "base_uri": "https://localhost:8080/",
          "height": 307
        },
        "id": "9QWi9xCcO31g",
        "outputId": "83d5a38e-213c-49b1-fb70-3510118d91bb"
      },
      "source": [
        "sns.boxplot(x='waterfront',y='price',data=df)"
      ],
      "execution_count": null,
      "outputs": [
        {
          "output_type": "execute_result",
          "data": {
            "text/plain": [
              "<matplotlib.axes._subplots.AxesSubplot at 0x7f1429735150>"
            ]
          },
          "metadata": {},
          "execution_count": 19
        },
        {
          "output_type": "display_data",
          "data": {
            "image/png": "[encoded data removed]",
            "text/plain": [
              "<Figure size 432x288 with 1 Axes>"
            ]
          },
          "metadata": {
            "needs_background": "light"
          }
        }
      ]
    },
    {
      "cell_type": "markdown",
      "metadata": {
        "id": "JfTzKwr1PyVq"
      },
      "source": [
        "This shows that the waterfront properties are more expensive which is usually the case due to their scenic nature"
      ]
    },
    {
      "cell_type": "code",
      "metadata": {
        "colab": {
          "base_uri": "https://localhost:8080/",
          "height": 223
        },
        "id": "u7G738JiPvWP",
        "outputId": "1facce22-d02f-4a0b-8c67-dee1aee59828"
      },
      "source": [
        "df = df.drop('id',axis=1)\n",
        "df.head()"
      ],
      "execution_count": null,
      "outputs": [
        {
          "output_type": "execute_result",
          "data": {
            "text/html": [
              "<div>\n",
              "<style scoped>\n",
              "    .dataframe tbody tr th:only-of-type {\n",
              "        vertical-align: middle;\n",
              "    }\n",
              "\n",
              "    .dataframe tbody tr th {\n",
              "        vertical-align: top;\n",
              "    }\n",
              "\n",
              "    .dataframe thead th {\n",
              "        text-align: right;\n",
              "    }\n",
              "</style>\n",
              "<table border=\"1\" class=\"dataframe\">\n",
              "  <thead>\n",
              "    <tr style=\"text-align: right;\">\n",
              "      <th></th>\n",
              "      <th>date</th>\n",
              "      <th>price</th>\n",
              "      <th>bedrooms</th>\n",
              "      <th>bathrooms</th>\n",
              "      <th>sqft_living</th>\n",
              "      <th>sqft_lot</th>\n",
              "      <th>floors</th>\n",
              "      <th>waterfront</th>\n",
              "      <th>view</th>\n",
              "      <th>condition</th>\n",
              "      <th>grade</th>\n",
              "      <th>sqft_above</th>\n",
              "      <th>sqft_basement</th>\n",
              "      <th>yr_built</th>\n",
              "      <th>yr_renovated</th>\n",
              "      <th>zipcode</th>\n",
              "      <th>lat</th>\n",
              "      <th>long</th>\n",
              "      <th>sqft_living15</th>\n",
              "      <th>sqft_lot15</th>\n",
              "    </tr>\n",
              "  </thead>\n",
              "  <tbody>\n",
              "    <tr>\n",
              "      <th>0</th>\n",
              "      <td>10/13/2014</td>\n",
              "      <td>221900.0</td>\n",
              "      <td>3</td>\n",
              "      <td>1.00</td>\n",
              "      <td>1180</td>\n",
              "      <td>5650</td>\n",
              "      <td>1.0</td>\n",
              "      <td>0</td>\n",
              "      <td>0</td>\n",
              "      <td>3</td>\n",
              "      <td>7</td>\n",
              "      <td>1180</td>\n",
              "      <td>0</td>\n",
              "      <td>1955</td>\n",
              "      <td>0</td>\n",
              "      <td>98178</td>\n",
              "      <td>47.5112</td>\n",
              "      <td>-122.257</td>\n",
              "      <td>1340</td>\n",
              "      <td>5650</td>\n",
              "    </tr>\n",
              "    <tr>\n",
              "      <th>1</th>\n",
              "      <td>12/9/2014</td>\n",
              "      <td>538000.0</td>\n",
              "      <td>3</td>\n",
              "      <td>2.25</td>\n",
              "      <td>2570</td>\n",
              "      <td>7242</td>\n",
              "      <td>2.0</td>\n",
              "      <td>0</td>\n",
              "      <td>0</td>\n",
              "      <td>3</td>\n",
              "      <td>7</td>\n",
              "      <td>2170</td>\n",
              "      <td>400</td>\n",
              "      <td>1951</td>\n",
              "      <td>1991</td>\n",
              "      <td>98125</td>\n",
              "      <td>47.7210</td>\n",
              "      <td>-122.319</td>\n",
              "      <td>1690</td>\n",
              "      <td>7639</td>\n",
              "    </tr>\n",
              "    <tr>\n",
              "      <th>2</th>\n",
              "      <td>2/25/2015</td>\n",
              "      <td>180000.0</td>\n",
              "      <td>2</td>\n",
              "      <td>1.00</td>\n",
              "      <td>770</td>\n",
              "      <td>10000</td>\n",
              "      <td>1.0</td>\n",
              "      <td>0</td>\n",
              "      <td>0</td>\n",
              "      <td>3</td>\n",
              "      <td>6</td>\n",
              "      <td>770</td>\n",
              "      <td>0</td>\n",
              "      <td>1933</td>\n",
              "      <td>0</td>\n",
              "      <td>98028</td>\n",
              "      <td>47.7379</td>\n",
              "      <td>-122.233</td>\n",
              "      <td>2720</td>\n",
              "      <td>8062</td>\n",
              "    </tr>\n",
              "    <tr>\n",
              "      <th>3</th>\n",
              "      <td>12/9/2014</td>\n",
              "      <td>604000.0</td>\n",
              "      <td>4</td>\n",
              "      <td>3.00</td>\n",
              "      <td>1960</td>\n",
              "      <td>5000</td>\n",
              "      <td>1.0</td>\n",
              "      <td>0</td>\n",
              "      <td>0</td>\n",
              "      <td>5</td>\n",
              "      <td>7</td>\n",
              "      <td>1050</td>\n",
              "      <td>910</td>\n",
              "      <td>1965</td>\n",
              "      <td>0</td>\n",
              "      <td>98136</td>\n",
              "      <td>47.5208</td>\n",
              "      <td>-122.393</td>\n",
              "      <td>1360</td>\n",
              "      <td>5000</td>\n",
              "    </tr>\n",
              "    <tr>\n",
              "      <th>4</th>\n",
              "      <td>2/18/2015</td>\n",
              "      <td>510000.0</td>\n",
              "      <td>3</td>\n",
              "      <td>2.00</td>\n",
              "      <td>1680</td>\n",
              "      <td>8080</td>\n",
              "      <td>1.0</td>\n",
              "      <td>0</td>\n",
              "      <td>0</td>\n",
              "      <td>3</td>\n",
              "      <td>8</td>\n",
              "      <td>1680</td>\n",
              "      <td>0</td>\n",
              "      <td>1987</td>\n",
              "      <td>0</td>\n",
              "      <td>98074</td>\n",
              "      <td>47.6168</td>\n",
              "      <td>-122.045</td>\n",
              "      <td>1800</td>\n",
              "      <td>7503</td>\n",
              "    </tr>\n",
              "  </tbody>\n",
              "</table>\n",
              "</div>"
            ],
            "text/plain": [
              "         date     price  bedrooms  ...     long  sqft_living15  sqft_lot15\n",
              "0  10/13/2014  221900.0         3  ... -122.257           1340        5650\n",
              "1   12/9/2014  538000.0         3  ... -122.319           1690        7639\n",
              "2   2/25/2015  180000.0         2  ... -122.233           2720        8062\n",
              "3   12/9/2014  604000.0         4  ... -122.393           1360        5000\n",
              "4   2/18/2015  510000.0         3  ... -122.045           1800        7503\n",
              "\n",
              "[5 rows x 20 columns]"
            ]
          },
          "metadata": {},
          "execution_count": 20
        }
      ]
    },
    {
      "cell_type": "markdown",
      "metadata": {
        "id": "F3-Y9IqnRNQD"
      },
      "source": [
        "We dropped the id column as it doesn't help in any analysis. Since it was mentioned that the date is a string, we will convert it to datetime object"
      ]
    },
    {
      "cell_type": "code",
      "metadata": {
        "id": "Vp1ACHksRHF2"
      },
      "source": [
        "df['date'] = pd.to_datetime(df['date'])"
      ],
      "execution_count": null,
      "outputs": []
    },
    {
      "cell_type": "code",
      "metadata": {
        "colab": {
          "base_uri": "https://localhost:8080/"
        },
        "id": "U6d2juVwRgPB",
        "outputId": "9986000f-0217-45c5-ab88-32b928c0d9ff"
      },
      "source": [
        "df['date']"
      ],
      "execution_count": null,
      "outputs": [
        {
          "output_type": "execute_result",
          "data": {
            "text/plain": [
              "0       2014-10-13\n",
              "1       2014-12-09\n",
              "2       2015-02-25\n",
              "3       2014-12-09\n",
              "4       2015-02-18\n",
              "           ...    \n",
              "21592   2014-05-21\n",
              "21593   2015-02-23\n",
              "21594   2014-06-23\n",
              "21595   2015-01-16\n",
              "21596   2014-10-15\n",
              "Name: date, Length: 21597, dtype: datetime64[ns]"
            ]
          },
          "metadata": {},
          "execution_count": 22
        }
      ]
    },
    {
      "cell_type": "code",
      "metadata": {
        "colab": {
          "base_uri": "https://localhost:8080/",
          "height": 307
        },
        "id": "Dxa5ge2yRjPA",
        "outputId": "349cfc9f-f6ec-4d20-98d4-6c0e8833058d"
      },
      "source": [
        "df['year'] = df['date'].apply(lambda date: date.year)\n",
        "df['month'] = df['date'].apply(lambda date: date.month)\n",
        "df.head()"
      ],
      "execution_count": null,
      "outputs": [
        {
          "output_type": "execute_result",
          "data": {
            "text/html": [
              "<div>\n",
              "<style scoped>\n",
              "    .dataframe tbody tr th:only-of-type {\n",
              "        vertical-align: middle;\n",
              "    }\n",
              "\n",
              "    .dataframe tbody tr th {\n",
              "        vertical-align: top;\n",
              "    }\n",
              "\n",
              "    .dataframe thead th {\n",
              "        text-align: right;\n",
              "    }\n",
              "</style>\n",
              "<table border=\"1\" class=\"dataframe\">\n",
              "  <thead>\n",
              "    <tr style=\"text-align: right;\">\n",
              "      <th></th>\n",
              "      <th>date</th>\n",
              "      <th>price</th>\n",
              "      <th>bedrooms</th>\n",
              "      <th>bathrooms</th>\n",
              "      <th>sqft_living</th>\n",
              "      <th>sqft_lot</th>\n",
              "      <th>floors</th>\n",
              "      <th>waterfront</th>\n",
              "      <th>view</th>\n",
              "      <th>condition</th>\n",
              "      <th>grade</th>\n",
              "      <th>sqft_above</th>\n",
              "      <th>sqft_basement</th>\n",
              "      <th>yr_built</th>\n",
              "      <th>yr_renovated</th>\n",
              "      <th>zipcode</th>\n",
              "      <th>lat</th>\n",
              "      <th>long</th>\n",
              "      <th>sqft_living15</th>\n",
              "      <th>sqft_lot15</th>\n",
              "      <th>year</th>\n",
              "      <th>month</th>\n",
              "    </tr>\n",
              "  </thead>\n",
              "  <tbody>\n",
              "    <tr>\n",
              "      <th>0</th>\n",
              "      <td>2014-10-13</td>\n",
              "      <td>221900.0</td>\n",
              "      <td>3</td>\n",
              "      <td>1.00</td>\n",
              "      <td>1180</td>\n",
              "      <td>5650</td>\n",
              "      <td>1.0</td>\n",
              "      <td>0</td>\n",
              "      <td>0</td>\n",
              "      <td>3</td>\n",
              "      <td>7</td>\n",
              "      <td>1180</td>\n",
              "      <td>0</td>\n",
              "      <td>1955</td>\n",
              "      <td>0</td>\n",
              "      <td>98178</td>\n",
              "      <td>47.5112</td>\n",
              "      <td>-122.257</td>\n",
              "      <td>1340</td>\n",
              "      <td>5650</td>\n",
              "      <td>2014</td>\n",
              "      <td>10</td>\n",
              "    </tr>\n",
              "    <tr>\n",
              "      <th>1</th>\n",
              "      <td>2014-12-09</td>\n",
              "      <td>538000.0</td>\n",
              "      <td>3</td>\n",
              "      <td>2.25</td>\n",
              "      <td>2570</td>\n",
              "      <td>7242</td>\n",
              "      <td>2.0</td>\n",
              "      <td>0</td>\n",
              "      <td>0</td>\n",
              "      <td>3</td>\n",
              "      <td>7</td>\n",
              "      <td>2170</td>\n",
              "      <td>400</td>\n",
              "      <td>1951</td>\n",
              "      <td>1991</td>\n",
              "      <td>98125</td>\n",
              "      <td>47.7210</td>\n",
              "      <td>-122.319</td>\n",
              "      <td>1690</td>\n",
              "      <td>7639</td>\n",
              "      <td>2014</td>\n",
              "      <td>12</td>\n",
              "    </tr>\n",
              "    <tr>\n",
              "      <th>2</th>\n",
              "      <td>2015-02-25</td>\n",
              "      <td>180000.0</td>\n",
              "      <td>2</td>\n",
              "      <td>1.00</td>\n",
              "      <td>770</td>\n",
              "      <td>10000</td>\n",
              "      <td>1.0</td>\n",
              "      <td>0</td>\n",
              "      <td>0</td>\n",
              "      <td>3</td>\n",
              "      <td>6</td>\n",
              "      <td>770</td>\n",
              "      <td>0</td>\n",
              "      <td>1933</td>\n",
              "      <td>0</td>\n",
              "      <td>98028</td>\n",
              "      <td>47.7379</td>\n",
              "      <td>-122.233</td>\n",
              "      <td>2720</td>\n",
              "      <td>8062</td>\n",
              "      <td>2015</td>\n",
              "      <td>2</td>\n",
              "    </tr>\n",
              "    <tr>\n",
              "      <th>3</th>\n",
              "      <td>2014-12-09</td>\n",
              "      <td>604000.0</td>\n",
              "      <td>4</td>\n",
              "      <td>3.00</td>\n",
              "      <td>1960</td>\n",
              "      <td>5000</td>\n",
              "      <td>1.0</td>\n",
              "      <td>0</td>\n",
              "      <td>0</td>\n",
              "      <td>5</td>\n",
              "      <td>7</td>\n",
              "      <td>1050</td>\n",
              "      <td>910</td>\n",
              "      <td>1965</td>\n",
              "      <td>0</td>\n",
              "      <td>98136</td>\n",
              "      <td>47.5208</td>\n",
              "      <td>-122.393</td>\n",
              "      <td>1360</td>\n",
              "      <td>5000</td>\n",
              "      <td>2014</td>\n",
              "      <td>12</td>\n",
              "    </tr>\n",
              "    <tr>\n",
              "      <th>4</th>\n",
              "      <td>2015-02-18</td>\n",
              "      <td>510000.0</td>\n",
              "      <td>3</td>\n",
              "      <td>2.00</td>\n",
              "      <td>1680</td>\n",
              "      <td>8080</td>\n",
              "      <td>1.0</td>\n",
              "      <td>0</td>\n",
              "      <td>0</td>\n",
              "      <td>3</td>\n",
              "      <td>8</td>\n",
              "      <td>1680</td>\n",
              "      <td>0</td>\n",
              "      <td>1987</td>\n",
              "      <td>0</td>\n",
              "      <td>98074</td>\n",
              "      <td>47.6168</td>\n",
              "      <td>-122.045</td>\n",
              "      <td>1800</td>\n",
              "      <td>7503</td>\n",
              "      <td>2015</td>\n",
              "      <td>2</td>\n",
              "    </tr>\n",
              "  </tbody>\n",
              "</table>\n",
              "</div>"
            ],
            "text/plain": [
              "        date     price  bedrooms  ...  sqft_lot15  year  month\n",
              "0 2014-10-13  221900.0         3  ...        5650  2014     10\n",
              "1 2014-12-09  538000.0         3  ...        7639  2014     12\n",
              "2 2015-02-25  180000.0         2  ...        8062  2015      2\n",
              "3 2014-12-09  604000.0         4  ...        5000  2014     12\n",
              "4 2015-02-18  510000.0         3  ...        7503  2015      2\n",
              "\n",
              "[5 rows x 22 columns]"
            ]
          },
          "metadata": {},
          "execution_count": 23
        }
      ]
    },
    {
      "cell_type": "code",
      "metadata": {
        "colab": {
          "base_uri": "https://localhost:8080/",
          "height": 296
        },
        "id": "8h6Apws3Uq5b",
        "outputId": "7a9ee4f6-9cf8-4e95-fc1e-7455b201326e"
      },
      "source": [
        "df.groupby('month').mean()['price'].plot()"
      ],
      "execution_count": null,
      "outputs": [
        {
          "output_type": "execute_result",
          "data": {
            "text/plain": [
              "<matplotlib.axes._subplots.AxesSubplot at 0x7f142b378dd0>"
            ]
          },
          "metadata": {},
          "execution_count": 24
        },
        {
          "output_type": "display_data",
          "data": {
            "image/png": "[encoded data removed]",
            "text/plain": [
              "<Figure size 432x288 with 1 Axes>"
            ]
          },
          "metadata": {
            "needs_background": "light"
          }
        }
      ]
    },
    {
      "cell_type": "markdown",
      "metadata": {
        "id": "2e2e1JTnWI5I"
      },
      "source": [
        "There is slight change in different months and the price of the houses "
      ]
    },
    {
      "cell_type": "code",
      "metadata": {
        "colab": {
          "base_uri": "https://localhost:8080/",
          "height": 296
        },
        "id": "bN0eWGsqV7tt",
        "outputId": "77963230-dd80-4c1e-a031-7cfdf50c0eff"
      },
      "source": [
        "df.groupby('year').mean()['price'].plot()"
      ],
      "execution_count": null,
      "outputs": [
        {
          "output_type": "execute_result",
          "data": {
            "text/plain": [
              "<matplotlib.axes._subplots.AxesSubplot at 0x7f1436c03810>"
            ]
          },
          "metadata": {},
          "execution_count": 25
        },
        {
          "output_type": "display_data",
          "data": {
            "image/png": "[encoded data removed]",
            "text/plain": [
              "<Figure size 432x288 with 1 Axes>"
            ]
          },
          "metadata": {
            "needs_background": "light"
          }
        }
      ]
    },
    {
      "cell_type": "markdown",
      "metadata": {
        "id": "p6YmetecWQGv"
      },
      "source": [
        "This shows a trend of increasing price ranges which is the case because real estate prices seldom drop"
      ]
    },
    {
      "cell_type": "code",
      "metadata": {
        "id": "EgYW321rWO_h"
      },
      "source": [
        "df = df.drop('date',axis=1)"
      ],
      "execution_count": null,
      "outputs": []
    },
    {
      "cell_type": "code",
      "metadata": {
        "colab": {
          "base_uri": "https://localhost:8080/"
        },
        "id": "K2eISynyWleu",
        "outputId": "91893f49-f996-4c5e-96c2-a5857f7d578f"
      },
      "source": [
        "df['zipcode'].value_counts()"
      ],
      "execution_count": null,
      "outputs": [
        {
          "output_type": "execute_result",
          "data": {
            "text/plain": [
              "98103    602\n",
              "98038    589\n",
              "98115    583\n",
              "98052    574\n",
              "98117    553\n",
              "        ... \n",
              "98102    104\n",
              "98010    100\n",
              "98024     80\n",
              "98148     57\n",
              "98039     50\n",
              "Name: zipcode, Length: 70, dtype: int64"
            ]
          },
          "metadata": {},
          "execution_count": 27
        }
      ]
    },
    {
      "cell_type": "markdown",
      "metadata": {
        "id": "OKybNyhJW_Wj"
      },
      "source": [
        "There are 70 different zipcodes. No use of making dummy variables for 70 categories so we will drop the zipcode column"
      ]
    },
    {
      "cell_type": "code",
      "metadata": {
        "id": "cdt02rJRW8jO"
      },
      "source": [
        "df = df.drop('zipcode',axis=1)"
      ],
      "execution_count": null,
      "outputs": []
    },
    {
      "cell_type": "code",
      "metadata": {
        "colab": {
          "base_uri": "https://localhost:8080/"
        },
        "id": "8dpSQIIiXcCR",
        "outputId": "bc4f2119-391c-4be4-d65b-18a59a4f4b9b"
      },
      "source": [
        "df['yr_renovated'].value_counts()"
      ],
      "execution_count": null,
      "outputs": [
        {
          "output_type": "execute_result",
          "data": {
            "text/plain": [
              "0       20683\n",
              "2014       91\n",
              "2013       37\n",
              "2003       36\n",
              "2000       35\n",
              "        ...  \n",
              "1934        1\n",
              "1959        1\n",
              "1951        1\n",
              "1948        1\n",
              "1944        1\n",
              "Name: yr_renovated, Length: 70, dtype: int64"
            ]
          },
          "metadata": {},
          "execution_count": 29
        }
      ]
    },
    {
      "cell_type": "markdown",
      "metadata": {
        "id": "-TcUwOXrXr2T"
      },
      "source": [
        "0 means the house was not renovated and the rest different years show the number of houses renovated in a particular year. Since there are many different categories, we will make 2 unique categories of Renovated and Not Renovated"
      ]
    },
    {
      "cell_type": "code",
      "metadata": {
        "colab": {
          "base_uri": "https://localhost:8080/"
        },
        "id": "YtiqW1jDXqUF",
        "outputId": "90d557dd-87ff-480a-f59d-d6fd4a566cb5"
      },
      "source": [
        "df['sqft_basement'].value_counts()"
      ],
      "execution_count": null,
      "outputs": [
        {
          "output_type": "execute_result",
          "data": {
            "text/plain": [
              "0       13110\n",
              "600       221\n",
              "700       218\n",
              "500       214\n",
              "800       206\n",
              "        ...  \n",
              "792         1\n",
              "2590        1\n",
              "935         1\n",
              "2390        1\n",
              "248         1\n",
              "Name: sqft_basement, Length: 306, dtype: int64"
            ]
          },
          "metadata": {},
          "execution_count": 30
        }
      ]
    },
    {
      "cell_type": "markdown",
      "metadata": {
        "id": "DnFX6s4vZ140"
      },
      "source": [
        "0 means the house does not have a basement so we will do the same as the above step of making 2 categories of Basement and No Basement"
      ]
    },
    {
      "cell_type": "code",
      "metadata": {
        "colab": {
          "base_uri": "https://localhost:8080/",
          "height": 223
        },
        "id": "KePfC1v9Zz5G",
        "outputId": "9f3fab0d-1ef1-4078-ae96-48f9769c1a47"
      },
      "source": [
        "df['Renovated'] = np.where(df.yr_renovated > 1,1,0)\n",
        "df['Basement'] = np.where(df.sqft_basement > 1,1,0)\n",
        "df = df.drop('yr_renovated',axis=1)\n",
        "df = df.drop('sqft_basement',axis=1)\n",
        "df.head()"
      ],
      "execution_count": null,
      "outputs": [
        {
          "output_type": "execute_result",
          "data": {
            "text/html": [
              "<div>\n",
              "<style scoped>\n",
              "    .dataframe tbody tr th:only-of-type {\n",
              "        vertical-align: middle;\n",
              "    }\n",
              "\n",
              "    .dataframe tbody tr th {\n",
              "        vertical-align: top;\n",
              "    }\n",
              "\n",
              "    .dataframe thead th {\n",
              "        text-align: right;\n",
              "    }\n",
              "</style>\n",
              "<table border=\"1\" class=\"dataframe\">\n",
              "  <thead>\n",
              "    <tr style=\"text-align: right;\">\n",
              "      <th></th>\n",
              "      <th>price</th>\n",
              "      <th>bedrooms</th>\n",
              "      <th>bathrooms</th>\n",
              "      <th>sqft_living</th>\n",
              "      <th>sqft_lot</th>\n",
              "      <th>floors</th>\n",
              "      <th>waterfront</th>\n",
              "      <th>view</th>\n",
              "      <th>condition</th>\n",
              "      <th>grade</th>\n",
              "      <th>sqft_above</th>\n",
              "      <th>yr_built</th>\n",
              "      <th>lat</th>\n",
              "      <th>long</th>\n",
              "      <th>sqft_living15</th>\n",
              "      <th>sqft_lot15</th>\n",
              "      <th>year</th>\n",
              "      <th>month</th>\n",
              "      <th>Renovated</th>\n",
              "      <th>Basement</th>\n",
              "    </tr>\n",
              "  </thead>\n",
              "  <tbody>\n",
              "    <tr>\n",
              "      <th>0</th>\n",
              "      <td>221900.0</td>\n",
              "      <td>3</td>\n",
              "      <td>1.00</td>\n",
              "      <td>1180</td>\n",
              "      <td>5650</td>\n",
              "      <td>1.0</td>\n",
              "      <td>0</td>\n",
              "      <td>0</td>\n",
              "      <td>3</td>\n",
              "      <td>7</td>\n",
              "      <td>1180</td>\n",
              "      <td>1955</td>\n",
              "      <td>47.5112</td>\n",
              "      <td>-122.257</td>\n",
              "      <td>1340</td>\n",
              "      <td>5650</td>\n",
              "      <td>2014</td>\n",
              "      <td>10</td>\n",
              "      <td>0</td>\n",
              "      <td>0</td>\n",
              "    </tr>\n",
              "    <tr>\n",
              "      <th>1</th>\n",
              "      <td>538000.0</td>\n",
              "      <td>3</td>\n",
              "      <td>2.25</td>\n",
              "      <td>2570</td>\n",
              "      <td>7242</td>\n",
              "      <td>2.0</td>\n",
              "      <td>0</td>\n",
              "      <td>0</td>\n",
              "      <td>3</td>\n",
              "      <td>7</td>\n",
              "      <td>2170</td>\n",
              "      <td>1951</td>\n",
              "      <td>47.7210</td>\n",
              "      <td>-122.319</td>\n",
              "      <td>1690</td>\n",
              "      <td>7639</td>\n",
              "      <td>2014</td>\n",
              "      <td>12</td>\n",
              "      <td>1</td>\n",
              "      <td>1</td>\n",
              "    </tr>\n",
              "    <tr>\n",
              "      <th>2</th>\n",
              "      <td>180000.0</td>\n",
              "      <td>2</td>\n",
              "      <td>1.00</td>\n",
              "      <td>770</td>\n",
              "      <td>10000</td>\n",
              "      <td>1.0</td>\n",
              "      <td>0</td>\n",
              "      <td>0</td>\n",
              "      <td>3</td>\n",
              "      <td>6</td>\n",
              "      <td>770</td>\n",
              "      <td>1933</td>\n",
              "      <td>47.7379</td>\n",
              "      <td>-122.233</td>\n",
              "      <td>2720</td>\n",
              "      <td>8062</td>\n",
              "      <td>2015</td>\n",
              "      <td>2</td>\n",
              "      <td>0</td>\n",
              "      <td>0</td>\n",
              "    </tr>\n",
              "    <tr>\n",
              "      <th>3</th>\n",
              "      <td>604000.0</td>\n",
              "      <td>4</td>\n",
              "      <td>3.00</td>\n",
              "      <td>1960</td>\n",
              "      <td>5000</td>\n",
              "      <td>1.0</td>\n",
              "      <td>0</td>\n",
              "      <td>0</td>\n",
              "      <td>5</td>\n",
              "      <td>7</td>\n",
              "      <td>1050</td>\n",
              "      <td>1965</td>\n",
              "      <td>47.5208</td>\n",
              "      <td>-122.393</td>\n",
              "      <td>1360</td>\n",
              "      <td>5000</td>\n",
              "      <td>2014</td>\n",
              "      <td>12</td>\n",
              "      <td>0</td>\n",
              "      <td>1</td>\n",
              "    </tr>\n",
              "    <tr>\n",
              "      <th>4</th>\n",
              "      <td>510000.0</td>\n",
              "      <td>3</td>\n",
              "      <td>2.00</td>\n",
              "      <td>1680</td>\n",
              "      <td>8080</td>\n",
              "      <td>1.0</td>\n",
              "      <td>0</td>\n",
              "      <td>0</td>\n",
              "      <td>3</td>\n",
              "      <td>8</td>\n",
              "      <td>1680</td>\n",
              "      <td>1987</td>\n",
              "      <td>47.6168</td>\n",
              "      <td>-122.045</td>\n",
              "      <td>1800</td>\n",
              "      <td>7503</td>\n",
              "      <td>2015</td>\n",
              "      <td>2</td>\n",
              "      <td>0</td>\n",
              "      <td>0</td>\n",
              "    </tr>\n",
              "  </tbody>\n",
              "</table>\n",
              "</div>"
            ],
            "text/plain": [
              "      price  bedrooms  bathrooms  sqft_living  ...  year  month  Renovated  Basement\n",
              "0  221900.0         3       1.00         1180  ...  2014     10          0         0\n",
              "1  538000.0         3       2.25         2570  ...  2014     12          1         1\n",
              "2  180000.0         2       1.00          770  ...  2015      2          0         0\n",
              "3  604000.0         4       3.00         1960  ...  2014     12          0         1\n",
              "4  510000.0         3       2.00         1680  ...  2015      2          0         0\n",
              "\n",
              "[5 rows x 20 columns]"
            ]
          },
          "metadata": {},
          "execution_count": 31
        }
      ]
    },
    {
      "cell_type": "markdown",
      "metadata": {
        "id": "23Y1IS0Cbl4z"
      },
      "source": [
        "So we have categorised the houses into having a basement or not and having done a renovation or not"
      ]
    },
    {
      "cell_type": "code",
      "metadata": {
        "colab": {
          "base_uri": "https://localhost:8080/",
          "height": 307
        },
        "id": "MNOlzZv_bOis",
        "outputId": "787fd3b8-3c77-4274-be4d-dcb8a4f2189d"
      },
      "source": [
        "sns.boxplot(x='Renovated',y='price',data=df)"
      ],
      "execution_count": null,
      "outputs": [
        {
          "output_type": "execute_result",
          "data": {
            "text/plain": [
              "<matplotlib.axes._subplots.AxesSubplot at 0x7f14298b0290>"
            ]
          },
          "metadata": {},
          "execution_count": 32
        },
        {
          "output_type": "display_data",
          "data": {
            "image/png": "[encoded data removed]",
            "text/plain": [
              "<Figure size 432x288 with 1 Axes>"
            ]
          },
          "metadata": {
            "needs_background": "light"
          }
        }
      ]
    },
    {
      "cell_type": "code",
      "metadata": {
        "colab": {
          "base_uri": "https://localhost:8080/",
          "height": 307
        },
        "id": "_1RvbruFcL--",
        "outputId": "2770e737-1064-43e2-e891-6dccf4efec7b"
      },
      "source": [
        "sns.boxplot(x='Basement',y='price',data=df)"
      ],
      "execution_count": null,
      "outputs": [
        {
          "output_type": "execute_result",
          "data": {
            "text/plain": [
              "<matplotlib.axes._subplots.AxesSubplot at 0x7f14298392d0>"
            ]
          },
          "metadata": {},
          "execution_count": 33
        },
        {
          "output_type": "display_data",
          "data": {
            "image/png": "[encoded data removed]",
            "text/plain": [
              "<Figure size 432x288 with 1 Axes>"
            ]
          },
          "metadata": {
            "needs_background": "light"
          }
        }
      ]
    },
    {
      "cell_type": "markdown",
      "metadata": {
        "id": "BhCxRycicRv0"
      },
      "source": [
        "Renovated properties and those with basements tend to have a slightly higher price which is the usual case in real estate."
      ]
    },
    {
      "cell_type": "markdown",
      "metadata": {
        "id": "fBh3ohs_bLXN"
      },
      "source": [
        "##**Preprocessing and Model Creation**"
      ]
    },
    {
      "cell_type": "code",
      "metadata": {
        "id": "NoSh0fCkbRia"
      },
      "source": [
        "X = df.drop('price',axis=1).values\n",
        "y = df['price'].values"
      ],
      "execution_count": null,
      "outputs": []
    },
    {
      "cell_type": "code",
      "metadata": {
        "id": "hGnZhCKybde-"
      },
      "source": [
        "from sklearn.model_selection import train_test_split"
      ],
      "execution_count": null,
      "outputs": []
    },
    {
      "cell_type": "code",
      "metadata": {
        "id": "FIiJ92z9bnx-"
      },
      "source": [
        "X_train, X_test,y_train, y_test = train_test_split(X,y,test_size=0.3,random_state=101)"
      ],
      "execution_count": null,
      "outputs": []
    },
    {
      "cell_type": "code",
      "metadata": {
        "id": "es_Yuu9UcCgd"
      },
      "source": [
        "from sklearn.preprocessing import MinMaxScaler"
      ],
      "execution_count": null,
      "outputs": []
    },
    {
      "cell_type": "code",
      "metadata": {
        "id": "TsHoLQFXcIhb"
      },
      "source": [
        "scaler = MinMaxScaler()"
      ],
      "execution_count": null,
      "outputs": []
    },
    {
      "cell_type": "code",
      "metadata": {
        "id": "5bZMmj2YcT4S"
      },
      "source": [
        "X_train = scaler.fit_transform(X_train)\n",
        "X_test = scaler.transform(X_test)"
      ],
      "execution_count": null,
      "outputs": []
    },
    {
      "cell_type": "code",
      "metadata": {
        "id": "HIWOWLj_cjDg"
      },
      "source": [
        "from tensorflow.keras.models import Sequential\n",
        "from tensorflow.keras.layers import Dense"
      ],
      "execution_count": null,
      "outputs": []
    },
    {
      "cell_type": "code",
      "metadata": {
        "colab": {
          "base_uri": "https://localhost:8080/"
        },
        "id": "uvLWLuq5c0PX",
        "outputId": "c982989e-400c-445c-9a04-95f558b925d0"
      },
      "source": [
        "X_train.shape"
      ],
      "execution_count": null,
      "outputs": [
        {
          "output_type": "execute_result",
          "data": {
            "text/plain": [
              "(15117, 19)"
            ]
          },
          "metadata": {},
          "execution_count": 41
        }
      ]
    },
    {
      "cell_type": "code",
      "metadata": {
        "id": "1cFPLLZOc-2j"
      },
      "source": [
        "model = Sequential()\n",
        "model.add(Dense(19,activation='relu'))\n",
        "model.add(Dense(19,activation='relu'))\n",
        "model.add(Dense(19,activation='relu'))\n",
        "model.add(Dense(19,activation='relu'))\n",
        "model.add(Dense(1))\n",
        "model.compile(optimizer='adam',loss='mse')"
      ],
      "execution_count": null,
      "outputs": []
    },
    {
      "cell_type": "code",
      "metadata": {
        "colab": {
          "base_uri": "https://localhost:8080/"
        },
        "id": "fXnGYIPxdvKd",
        "outputId": "1be4f6b8-8068-4984-d7bd-7b8343fb49e8"
      },
      "source": [
        "model.fit(x=X_train,y=y_train,validation_data=(X_test,y_test),batch_size=128,epochs=400)"
      ],
      "execution_count": null,
      "outputs": [
        {
          "output_type": "stream",
          "text": [
            "Epoch 1/400\n",
            "119/119 [==============================] - 1s 4ms/step - loss: 430225555456.0000 - val_loss: 418827173888.0000\n",
            "Epoch 2/400\n",
            "119/119 [==============================] - 0s 3ms/step - loss: 427884675072.0000 - val_loss: 410792853504.0000\n",
            "Epoch 3/400\n",
            "119/119 [==============================] - 0s 3ms/step - loss: 396682428416.0000 - val_loss: 341798486016.0000\n",
            "Epoch 4/400\n",
            "119/119 [==============================] - 0s 2ms/step - loss: 267610603520.0000 - val_loss: 165277335552.0000\n",
            "Epoch 5/400\n",
            "119/119 [==============================] - 0s 3ms/step - loss: 121059581952.0000 - val_loss: 95362818048.0000\n",
            "Epoch 6/400\n",
            "119/119 [==============================] - 0s 3ms/step - loss: 97524457472.0000 - val_loss: 93510582272.0000\n",
            "Epoch 7/400\n",
            "119/119 [==============================] - 0s 3ms/step - loss: 95801901056.0000 - val_loss: 91927388160.0000\n",
            "Epoch 8/400\n",
            "119/119 [==============================] - 0s 2ms/step - loss: 94127202304.0000 - val_loss: 90378223616.0000\n",
            "Epoch 9/400\n",
            "119/119 [==============================] - 0s 2ms/step - loss: 92427558912.0000 - val_loss: 88693473280.0000\n",
            "Epoch 10/400\n",
            "119/119 [==============================] - 0s 2ms/step - loss: 90624802816.0000 - val_loss: 87006920704.0000\n",
            "Epoch 11/400\n",
            "119/119 [==============================] - 0s 3ms/step - loss: 88760016896.0000 - val_loss: 85504319488.0000\n",
            "Epoch 12/400\n",
            "119/119 [==============================] - 0s 2ms/step - loss: 86955597824.0000 - val_loss: 83370975232.0000\n",
            "Epoch 13/400\n",
            "119/119 [==============================] - 0s 3ms/step - loss: 84928897024.0000 - val_loss: 81369137152.0000\n",
            "Epoch 14/400\n",
            "119/119 [==============================] - 0s 3ms/step - loss: 82881101824.0000 - val_loss: 79378096128.0000\n",
            "Epoch 15/400\n",
            "119/119 [==============================] - 0s 3ms/step - loss: 80778870784.0000 - val_loss: 77288693760.0000\n",
            "Epoch 16/400\n",
            "119/119 [==============================] - 0s 2ms/step - loss: 78465638400.0000 - val_loss: 75121131520.0000\n",
            "Epoch 17/400\n",
            "119/119 [==============================] - 0s 2ms/step - loss: 76198240256.0000 - val_loss: 72989679616.0000\n",
            "Epoch 18/400\n",
            "119/119 [==============================] - 0s 3ms/step - loss: 73828450304.0000 - val_loss: 70672244736.0000\n",
            "Epoch 19/400\n",
            "119/119 [==============================] - 0s 2ms/step - loss: 71393845248.0000 - val_loss: 68132818944.0000\n",
            "Epoch 20/400\n",
            "119/119 [==============================] - 0s 2ms/step - loss: 68853407744.0000 - val_loss: 65785565184.0000\n",
            "Epoch 21/400\n",
            "119/119 [==============================] - 0s 2ms/step - loss: 66346303488.0000 - val_loss: 63369646080.0000\n",
            "Epoch 22/400\n",
            "119/119 [==============================] - 0s 2ms/step - loss: 63899099136.0000 - val_loss: 61064851456.0000\n",
            "Epoch 23/400\n",
            "119/119 [==============================] - 0s 2ms/step - loss: 61563150336.0000 - val_loss: 58859220992.0000\n",
            "Epoch 24/400\n",
            "119/119 [==============================] - 0s 2ms/step - loss: 59436609536.0000 - val_loss: 56903127040.0000\n",
            "Epoch 25/400\n",
            "119/119 [==============================] - 0s 2ms/step - loss: 57379348480.0000 - val_loss: 55155933184.0000\n",
            "Epoch 26/400\n",
            "119/119 [==============================] - 0s 2ms/step - loss: 55664349184.0000 - val_loss: 53669056512.0000\n",
            "Epoch 27/400\n",
            "119/119 [==============================] - 0s 2ms/step - loss: 54152847360.0000 - val_loss: 52380852224.0000\n",
            "Epoch 28/400\n",
            "119/119 [==============================] - 0s 2ms/step - loss: 52865150976.0000 - val_loss: 51179880448.0000\n",
            "Epoch 29/400\n",
            "119/119 [==============================] - 0s 2ms/step - loss: 51751804928.0000 - val_loss: 50203156480.0000\n",
            "Epoch 30/400\n",
            "119/119 [==============================] - 0s 2ms/step - loss: 50727342080.0000 - val_loss: 49296515072.0000\n",
            "Epoch 31/400\n",
            "119/119 [==============================] - 0s 2ms/step - loss: 49890025472.0000 - val_loss: 48531197952.0000\n",
            "Epoch 32/400\n",
            "119/119 [==============================] - 0s 2ms/step - loss: 49077710848.0000 - val_loss: 47879614464.0000\n",
            "Epoch 33/400\n",
            "119/119 [==============================] - 0s 2ms/step - loss: 48404520960.0000 - val_loss: 47125274624.0000\n",
            "Epoch 34/400\n",
            "119/119 [==============================] - 0s 2ms/step - loss: 47708889088.0000 - val_loss: 46541684736.0000\n",
            "Epoch 35/400\n",
            "119/119 [==============================] - 0s 2ms/step - loss: 47143636992.0000 - val_loss: 45979312128.0000\n",
            "Epoch 36/400\n",
            "119/119 [==============================] - 0s 2ms/step - loss: 46574723072.0000 - val_loss: 45457625088.0000\n",
            "Epoch 37/400\n",
            "119/119 [==============================] - 0s 3ms/step - loss: 46077009920.0000 - val_loss: 44977287168.0000\n",
            "Epoch 38/400\n",
            "119/119 [==============================] - 0s 2ms/step - loss: 45583376384.0000 - val_loss: 44501352448.0000\n",
            "Epoch 39/400\n",
            "119/119 [==============================] - 0s 2ms/step - loss: 45162692608.0000 - val_loss: 44058030080.0000\n",
            "Epoch 40/400\n",
            "119/119 [==============================] - 0s 2ms/step - loss: 44682727424.0000 - val_loss: 43600609280.0000\n",
            "Epoch 41/400\n",
            "119/119 [==============================] - 0s 2ms/step - loss: 44269309952.0000 - val_loss: 43206721536.0000\n",
            "Epoch 42/400\n",
            "119/119 [==============================] - 0s 3ms/step - loss: 43814666240.0000 - val_loss: 42801827840.0000\n",
            "Epoch 43/400\n",
            "119/119 [==============================] - 0s 2ms/step - loss: 43445694464.0000 - val_loss: 42643054592.0000\n",
            "Epoch 44/400\n",
            "119/119 [==============================] - 0s 2ms/step - loss: 43045560320.0000 - val_loss: 41995403264.0000\n",
            "Epoch 45/400\n",
            "119/119 [==============================] - 0s 2ms/step - loss: 42653634560.0000 - val_loss: 41562415104.0000\n",
            "Epoch 46/400\n",
            "119/119 [==============================] - 0s 2ms/step - loss: 42257342464.0000 - val_loss: 41180819456.0000\n",
            "Epoch 47/400\n",
            "119/119 [==============================] - 0s 2ms/step - loss: 41924001792.0000 - val_loss: 40803446784.0000\n",
            "Epoch 48/400\n",
            "119/119 [==============================] - 0s 2ms/step - loss: 41528193024.0000 - val_loss: 40496975872.0000\n",
            "Epoch 49/400\n",
            "119/119 [==============================] - 0s 2ms/step - loss: 41205460992.0000 - val_loss: 40185110528.0000\n",
            "Epoch 50/400\n",
            "119/119 [==============================] - 0s 3ms/step - loss: 40906469376.0000 - val_loss: 39853215744.0000\n",
            "Epoch 51/400\n",
            "119/119 [==============================] - 0s 2ms/step - loss: 40653524992.0000 - val_loss: 39592849408.0000\n",
            "Epoch 52/400\n",
            "119/119 [==============================] - 0s 2ms/step - loss: 40347054080.0000 - val_loss: 39350956032.0000\n",
            "Epoch 53/400\n",
            "119/119 [==============================] - 0s 2ms/step - loss: 40086343680.0000 - val_loss: 39010279424.0000\n",
            "Epoch 54/400\n",
            "119/119 [==============================] - 0s 2ms/step - loss: 39829127168.0000 - val_loss: 38798118912.0000\n",
            "Epoch 55/400\n",
            "119/119 [==============================] - 0s 2ms/step - loss: 39581843456.0000 - val_loss: 38547734528.0000\n",
            "Epoch 56/400\n",
            "119/119 [==============================] - 0s 3ms/step - loss: 39355654144.0000 - val_loss: 38291079168.0000\n",
            "Epoch 57/400\n",
            "119/119 [==============================] - 0s 2ms/step - loss: 39123902464.0000 - val_loss: 38075219968.0000\n",
            "Epoch 58/400\n",
            "119/119 [==============================] - 0s 3ms/step - loss: 38944571392.0000 - val_loss: 37848338432.0000\n",
            "Epoch 59/400\n",
            "119/119 [==============================] - 0s 2ms/step - loss: 38729396224.0000 - val_loss: 37641699328.0000\n",
            "Epoch 60/400\n",
            "119/119 [==============================] - 0s 2ms/step - loss: 38549819392.0000 - val_loss: 37436284928.0000\n",
            "Epoch 61/400\n",
            "119/119 [==============================] - 0s 3ms/step - loss: 38326112256.0000 - val_loss: 37243858944.0000\n",
            "Epoch 62/400\n",
            "119/119 [==============================] - 0s 3ms/step - loss: 38122078208.0000 - val_loss: 37145612288.0000\n",
            "Epoch 63/400\n",
            "119/119 [==============================] - 0s 2ms/step - loss: 37979979776.0000 - val_loss: 36855599104.0000\n",
            "Epoch 64/400\n",
            "119/119 [==============================] - 0s 2ms/step - loss: 37776670720.0000 - val_loss: 36671315968.0000\n",
            "Epoch 65/400\n",
            "119/119 [==============================] - 0s 2ms/step - loss: 37586362368.0000 - val_loss: 36470349824.0000\n",
            "Epoch 66/400\n",
            "119/119 [==============================] - 0s 3ms/step - loss: 37372993536.0000 - val_loss: 36295229440.0000\n",
            "Epoch 67/400\n",
            "119/119 [==============================] - 0s 2ms/step - loss: 37229535232.0000 - val_loss: 36113776640.0000\n",
            "Epoch 68/400\n",
            "119/119 [==============================] - 0s 3ms/step - loss: 37037678592.0000 - val_loss: 35928821760.0000\n",
            "Epoch 69/400\n",
            "119/119 [==============================] - 0s 2ms/step - loss: 36889219072.0000 - val_loss: 35799515136.0000\n",
            "Epoch 70/400\n",
            "119/119 [==============================] - 0s 2ms/step - loss: 36719775744.0000 - val_loss: 35609276416.0000\n",
            "Epoch 71/400\n",
            "119/119 [==============================] - 0s 2ms/step - loss: 36579135488.0000 - val_loss: 35539783680.0000\n",
            "Epoch 72/400\n",
            "119/119 [==============================] - 0s 2ms/step - loss: 36463775744.0000 - val_loss: 35329417216.0000\n",
            "Epoch 73/400\n",
            "119/119 [==============================] - 0s 2ms/step - loss: 36312350720.0000 - val_loss: 35214643200.0000\n",
            "Epoch 74/400\n",
            "119/119 [==============================] - 0s 3ms/step - loss: 36195737600.0000 - val_loss: 35083800576.0000\n",
            "Epoch 75/400\n",
            "119/119 [==============================] - 0s 2ms/step - loss: 36104646656.0000 - val_loss: 34944040960.0000\n",
            "Epoch 76/400\n",
            "119/119 [==============================] - 0s 2ms/step - loss: 35946520576.0000 - val_loss: 34861797376.0000\n",
            "Epoch 77/400\n",
            "119/119 [==============================] - 0s 3ms/step - loss: 35845263360.0000 - val_loss: 34711396352.0000\n",
            "Epoch 78/400\n",
            "119/119 [==============================] - 0s 3ms/step - loss: 35773407232.0000 - val_loss: 34601521152.0000\n",
            "Epoch 79/400\n",
            "119/119 [==============================] - 0s 2ms/step - loss: 35586273280.0000 - val_loss: 34491396096.0000\n",
            "Epoch 80/400\n",
            "119/119 [==============================] - 0s 2ms/step - loss: 35523846144.0000 - val_loss: 34425442304.0000\n",
            "Epoch 81/400\n",
            "119/119 [==============================] - 0s 2ms/step - loss: 35414945792.0000 - val_loss: 34376822784.0000\n",
            "Epoch 82/400\n",
            "119/119 [==============================] - 0s 2ms/step - loss: 35310166016.0000 - val_loss: 34270298112.0000\n",
            "Epoch 83/400\n",
            "119/119 [==============================] - 0s 2ms/step - loss: 35215740928.0000 - val_loss: 34132041728.0000\n",
            "Epoch 84/400\n",
            "119/119 [==============================] - 0s 2ms/step - loss: 35153883136.0000 - val_loss: 34041473024.0000\n",
            "Epoch 85/400\n",
            "119/119 [==============================] - 0s 2ms/step - loss: 35104362496.0000 - val_loss: 33933586432.0000\n",
            "Epoch 86/400\n",
            "119/119 [==============================] - 0s 2ms/step - loss: 34996531200.0000 - val_loss: 33826820096.0000\n",
            "Epoch 87/400\n",
            "119/119 [==============================] - 0s 2ms/step - loss: 34896273408.0000 - val_loss: 33766686720.0000\n",
            "Epoch 88/400\n",
            "119/119 [==============================] - 0s 2ms/step - loss: 34814693376.0000 - val_loss: 33669099520.0000\n",
            "Epoch 89/400\n",
            "119/119 [==============================] - 0s 2ms/step - loss: 34742067200.0000 - val_loss: 33598482432.0000\n",
            "Epoch 90/400\n",
            "119/119 [==============================] - 0s 3ms/step - loss: 34653556736.0000 - val_loss: 33496850432.0000\n",
            "Epoch 91/400\n",
            "119/119 [==============================] - 0s 2ms/step - loss: 34611531776.0000 - val_loss: 33412962304.0000\n",
            "Epoch 92/400\n",
            "119/119 [==============================] - 0s 3ms/step - loss: 34482614272.0000 - val_loss: 33465233408.0000\n",
            "Epoch 93/400\n",
            "119/119 [==============================] - 0s 2ms/step - loss: 34473910272.0000 - val_loss: 33313669120.0000\n",
            "Epoch 94/400\n",
            "119/119 [==============================] - 0s 2ms/step - loss: 34366873600.0000 - val_loss: 33227405312.0000\n",
            "Epoch 95/400\n",
            "119/119 [==============================] - 0s 3ms/step - loss: 34295222272.0000 - val_loss: 33200619520.0000\n",
            "Epoch 96/400\n",
            "119/119 [==============================] - 0s 2ms/step - loss: 34281955328.0000 - val_loss: 33055565824.0000\n",
            "Epoch 97/400\n",
            "119/119 [==============================] - 0s 2ms/step - loss: 34249605120.0000 - val_loss: 32961583104.0000\n",
            "Epoch 98/400\n",
            "119/119 [==============================] - 0s 2ms/step - loss: 34076794880.0000 - val_loss: 32881768448.0000\n",
            "Epoch 99/400\n",
            "119/119 [==============================] - 0s 3ms/step - loss: 34087991296.0000 - val_loss: 32917673984.0000\n",
            "Epoch 100/400\n",
            "119/119 [==============================] - 0s 2ms/step - loss: 33970745344.0000 - val_loss: 32762650624.0000\n",
            "Epoch 101/400\n",
            "119/119 [==============================] - 0s 2ms/step - loss: 33903005696.0000 - val_loss: 32721821696.0000\n",
            "Epoch 102/400\n",
            "119/119 [==============================] - 0s 2ms/step - loss: 33828538368.0000 - val_loss: 32601315328.0000\n",
            "Epoch 103/400\n",
            "119/119 [==============================] - 0s 2ms/step - loss: 33807695872.0000 - val_loss: 32543909888.0000\n",
            "Epoch 104/400\n",
            "119/119 [==============================] - 0s 2ms/step - loss: 33725669376.0000 - val_loss: 32501501952.0000\n",
            "Epoch 105/400\n",
            "119/119 [==============================] - 0s 3ms/step - loss: 33735608320.0000 - val_loss: 32529276928.0000\n",
            "Epoch 106/400\n",
            "119/119 [==============================] - 0s 3ms/step - loss: 33632018432.0000 - val_loss: 32407486464.0000\n",
            "Epoch 107/400\n",
            "119/119 [==============================] - 0s 2ms/step - loss: 33596628992.0000 - val_loss: 32354412544.0000\n",
            "Epoch 108/400\n",
            "119/119 [==============================] - 0s 2ms/step - loss: 33597032448.0000 - val_loss: 32330928128.0000\n",
            "Epoch 109/400\n",
            "119/119 [==============================] - 0s 2ms/step - loss: 33476724736.0000 - val_loss: 32314032128.0000\n",
            "Epoch 110/400\n",
            "119/119 [==============================] - 0s 2ms/step - loss: 33536321536.0000 - val_loss: 32201916416.0000\n",
            "Epoch 111/400\n",
            "119/119 [==============================] - 0s 3ms/step - loss: 33386747904.0000 - val_loss: 32123672576.0000\n",
            "Epoch 112/400\n",
            "119/119 [==============================] - 0s 2ms/step - loss: 33372420096.0000 - val_loss: 32075732992.0000\n",
            "Epoch 113/400\n",
            "119/119 [==============================] - 0s 2ms/step - loss: 33275944960.0000 - val_loss: 32052436992.0000\n",
            "Epoch 114/400\n",
            "119/119 [==============================] - 0s 2ms/step - loss: 33325735936.0000 - val_loss: 32005163008.0000\n",
            "Epoch 115/400\n",
            "119/119 [==============================] - 0s 2ms/step - loss: 33220884480.0000 - val_loss: 32020916224.0000\n",
            "Epoch 116/400\n",
            "119/119 [==============================] - 0s 2ms/step - loss: 33211092992.0000 - val_loss: 31886264320.0000\n",
            "Epoch 117/400\n",
            "119/119 [==============================] - 0s 2ms/step - loss: 33145464832.0000 - val_loss: 32005718016.0000\n",
            "Epoch 118/400\n",
            "119/119 [==============================] - 0s 2ms/step - loss: 33101037568.0000 - val_loss: 31767965696.0000\n",
            "Epoch 119/400\n",
            "119/119 [==============================] - 0s 2ms/step - loss: 33043429376.0000 - val_loss: 31817109504.0000\n",
            "Epoch 120/400\n",
            "119/119 [==============================] - 0s 3ms/step - loss: 33136427008.0000 - val_loss: 31667650560.0000\n",
            "Epoch 121/400\n",
            "119/119 [==============================] - 0s 2ms/step - loss: 33010292736.0000 - val_loss: 31615655936.0000\n",
            "Epoch 122/400\n",
            "119/119 [==============================] - 0s 2ms/step - loss: 32956690432.0000 - val_loss: 31640610816.0000\n",
            "Epoch 123/400\n",
            "119/119 [==============================] - 0s 2ms/step - loss: 32887670784.0000 - val_loss: 31528204288.0000\n",
            "Epoch 124/400\n",
            "119/119 [==============================] - 0s 2ms/step - loss: 32877101056.0000 - val_loss: 31478898688.0000\n",
            "Epoch 125/400\n",
            "119/119 [==============================] - 0s 2ms/step - loss: 32861259776.0000 - val_loss: 31522127872.0000\n",
            "Epoch 126/400\n",
            "119/119 [==============================] - 0s 3ms/step - loss: 32785567744.0000 - val_loss: 31424335872.0000\n",
            "Epoch 127/400\n",
            "119/119 [==============================] - 0s 2ms/step - loss: 32757311488.0000 - val_loss: 31396864000.0000\n",
            "Epoch 128/400\n",
            "119/119 [==============================] - 0s 3ms/step - loss: 32761530368.0000 - val_loss: 31355136000.0000\n",
            "Epoch 129/400\n",
            "119/119 [==============================] - 0s 2ms/step - loss: 32728821760.0000 - val_loss: 31339190272.0000\n",
            "Epoch 130/400\n",
            "119/119 [==============================] - 0s 2ms/step - loss: 32678916096.0000 - val_loss: 31219367936.0000\n",
            "Epoch 131/400\n",
            "119/119 [==============================] - 0s 2ms/step - loss: 32651505664.0000 - val_loss: 31453077504.0000\n",
            "Epoch 132/400\n",
            "119/119 [==============================] - 0s 2ms/step - loss: 32617715712.0000 - val_loss: 31212890112.0000\n",
            "Epoch 133/400\n",
            "119/119 [==============================] - 0s 3ms/step - loss: 32599928832.0000 - val_loss: 31116265472.0000\n",
            "Epoch 134/400\n",
            "119/119 [==============================] - 0s 3ms/step - loss: 32549701632.0000 - val_loss: 31055898624.0000\n",
            "Epoch 135/400\n",
            "119/119 [==============================] - 0s 2ms/step - loss: 32514191360.0000 - val_loss: 31074707456.0000\n",
            "Epoch 136/400\n",
            "119/119 [==============================] - 0s 2ms/step - loss: 32519794688.0000 - val_loss: 31017918464.0000\n",
            "Epoch 137/400\n",
            "119/119 [==============================] - 0s 3ms/step - loss: 32485724160.0000 - val_loss: 30950000640.0000\n",
            "Epoch 138/400\n",
            "119/119 [==============================] - 0s 2ms/step - loss: 32406581248.0000 - val_loss: 30923894784.0000\n",
            "Epoch 139/400\n",
            "119/119 [==============================] - 0s 2ms/step - loss: 32331929600.0000 - val_loss: 31073021952.0000\n",
            "Epoch 140/400\n",
            "119/119 [==============================] - 0s 2ms/step - loss: 32349044736.0000 - val_loss: 30838513664.0000\n",
            "Epoch 141/400\n",
            "119/119 [==============================] - 0s 3ms/step - loss: 32319780864.0000 - val_loss: 30798745600.0000\n",
            "Epoch 142/400\n",
            "119/119 [==============================] - 0s 3ms/step - loss: 32290951168.0000 - val_loss: 30850979840.0000\n",
            "Epoch 143/400\n",
            "119/119 [==============================] - 0s 2ms/step - loss: 32287209472.0000 - val_loss: 30715604992.0000\n",
            "Epoch 144/400\n",
            "119/119 [==============================] - 0s 2ms/step - loss: 32216590336.0000 - val_loss: 30660114432.0000\n",
            "Epoch 145/400\n",
            "119/119 [==============================] - 0s 2ms/step - loss: 32198248448.0000 - val_loss: 30628098048.0000\n",
            "Epoch 146/400\n",
            "119/119 [==============================] - 0s 2ms/step - loss: 32184510464.0000 - val_loss: 30644043776.0000\n",
            "Epoch 147/400\n",
            "119/119 [==============================] - 0s 2ms/step - loss: 32168366080.0000 - val_loss: 30572156928.0000\n",
            "Epoch 148/400\n",
            "119/119 [==============================] - 0s 2ms/step - loss: 32133476352.0000 - val_loss: 30615603200.0000\n",
            "Epoch 149/400\n",
            "119/119 [==============================] - 0s 2ms/step - loss: 32112332800.0000 - val_loss: 30493364224.0000\n",
            "Epoch 150/400\n",
            "119/119 [==============================] - 0s 2ms/step - loss: 32065824768.0000 - val_loss: 30477625344.0000\n",
            "Epoch 151/400\n",
            "119/119 [==============================] - 0s 3ms/step - loss: 32094896128.0000 - val_loss: 30430095360.0000\n",
            "Epoch 152/400\n",
            "119/119 [==============================] - 0s 2ms/step - loss: 32023738368.0000 - val_loss: 30429571072.0000\n",
            "Epoch 153/400\n",
            "119/119 [==============================] - 0s 2ms/step - loss: 32024272896.0000 - val_loss: 30344790016.0000\n",
            "Epoch 154/400\n",
            "119/119 [==============================] - 0s 2ms/step - loss: 31945945088.0000 - val_loss: 30345222144.0000\n",
            "Epoch 155/400\n",
            "119/119 [==============================] - 0s 2ms/step - loss: 31971756032.0000 - val_loss: 30272690176.0000\n",
            "Epoch 156/400\n",
            "119/119 [==============================] - 0s 3ms/step - loss: 31959226368.0000 - val_loss: 30269134848.0000\n",
            "Epoch 157/400\n",
            "119/119 [==============================] - 0s 2ms/step - loss: 31953874944.0000 - val_loss: 30187497472.0000\n",
            "Epoch 158/400\n",
            "119/119 [==============================] - 0s 2ms/step - loss: 31855673344.0000 - val_loss: 30174021632.0000\n",
            "Epoch 159/400\n",
            "119/119 [==============================] - 0s 3ms/step - loss: 31875549184.0000 - val_loss: 30202505216.0000\n",
            "Epoch 160/400\n",
            "119/119 [==============================] - 0s 2ms/step - loss: 31868133376.0000 - val_loss: 30115975168.0000\n",
            "Epoch 161/400\n",
            "119/119 [==============================] - 0s 3ms/step - loss: 31780605952.0000 - val_loss: 30178007040.0000\n",
            "Epoch 162/400\n",
            "119/119 [==============================] - 0s 2ms/step - loss: 31747557376.0000 - val_loss: 30021357568.0000\n",
            "Epoch 163/400\n",
            "119/119 [==============================] - 0s 2ms/step - loss: 31746570240.0000 - val_loss: 30066184192.0000\n",
            "Epoch 164/400\n",
            "119/119 [==============================] - 0s 2ms/step - loss: 31735164928.0000 - val_loss: 29977092096.0000\n",
            "Epoch 165/400\n",
            "119/119 [==============================] - 0s 2ms/step - loss: 31707832320.0000 - val_loss: 29950584832.0000\n",
            "Epoch 166/400\n",
            "119/119 [==============================] - 0s 2ms/step - loss: 31680290816.0000 - val_loss: 29954287616.0000\n",
            "Epoch 167/400\n",
            "119/119 [==============================] - 0s 3ms/step - loss: 31705112576.0000 - val_loss: 29884581888.0000\n",
            "Epoch 168/400\n",
            "119/119 [==============================] - 0s 3ms/step - loss: 31680768000.0000 - val_loss: 29880905728.0000\n",
            "Epoch 169/400\n",
            "119/119 [==============================] - 0s 2ms/step - loss: 31600613376.0000 - val_loss: 29830049792.0000\n",
            "Epoch 170/400\n",
            "119/119 [==============================] - 0s 2ms/step - loss: 31568650240.0000 - val_loss: 29934753792.0000\n",
            "Epoch 171/400\n",
            "119/119 [==============================] - 0s 3ms/step - loss: 31586027520.0000 - val_loss: 29802745856.0000\n",
            "Epoch 172/400\n",
            "119/119 [==============================] - 0s 3ms/step - loss: 31532744704.0000 - val_loss: 29802688512.0000\n",
            "Epoch 173/400\n",
            "119/119 [==============================] - 0s 2ms/step - loss: 31530045440.0000 - val_loss: 29747945472.0000\n",
            "Epoch 174/400\n",
            "119/119 [==============================] - 0s 2ms/step - loss: 31492591616.0000 - val_loss: 29795917824.0000\n",
            "Epoch 175/400\n",
            "119/119 [==============================] - 0s 3ms/step - loss: 31446736896.0000 - val_loss: 29857619968.0000\n",
            "Epoch 176/400\n",
            "119/119 [==============================] - 0s 2ms/step - loss: 31453622272.0000 - val_loss: 29649924096.0000\n",
            "Epoch 177/400\n",
            "119/119 [==============================] - 0s 2ms/step - loss: 31461763072.0000 - val_loss: 29641211904.0000\n",
            "Epoch 178/400\n",
            "119/119 [==============================] - 0s 2ms/step - loss: 31433820160.0000 - val_loss: 29591341056.0000\n",
            "Epoch 179/400\n",
            "119/119 [==============================] - 0s 2ms/step - loss: 31398705152.0000 - val_loss: 29564641280.0000\n",
            "Epoch 180/400\n",
            "119/119 [==============================] - 0s 2ms/step - loss: 31358187520.0000 - val_loss: 29603389440.0000\n",
            "Epoch 181/400\n",
            "119/119 [==============================] - 0s 3ms/step - loss: 31371776000.0000 - val_loss: 29505200128.0000\n",
            "Epoch 182/400\n",
            "119/119 [==============================] - 0s 3ms/step - loss: 31347908608.0000 - val_loss: 29500196864.0000\n",
            "Epoch 183/400\n",
            "119/119 [==============================] - 0s 3ms/step - loss: 31314972672.0000 - val_loss: 29465968640.0000\n",
            "Epoch 184/400\n",
            "119/119 [==============================] - 0s 3ms/step - loss: 31337107456.0000 - val_loss: 29562230784.0000\n",
            "Epoch 185/400\n",
            "119/119 [==============================] - 0s 3ms/step - loss: 31287500800.0000 - val_loss: 29431449600.0000\n",
            "Epoch 186/400\n",
            "119/119 [==============================] - 0s 2ms/step - loss: 31270633472.0000 - val_loss: 29412323328.0000\n",
            "Epoch 187/400\n",
            "119/119 [==============================] - 0s 2ms/step - loss: 31276480512.0000 - val_loss: 29375662080.0000\n",
            "Epoch 188/400\n",
            "119/119 [==============================] - 0s 2ms/step - loss: 31254040576.0000 - val_loss: 29333004288.0000\n",
            "Epoch 189/400\n",
            "119/119 [==============================] - 0s 3ms/step - loss: 31198910464.0000 - val_loss: 29342535680.0000\n",
            "Epoch 190/400\n",
            "119/119 [==============================] - 0s 2ms/step - loss: 31180998656.0000 - val_loss: 29325469696.0000\n",
            "Epoch 191/400\n",
            "119/119 [==============================] - 0s 2ms/step - loss: 31167059968.0000 - val_loss: 29331607552.0000\n",
            "Epoch 192/400\n",
            "119/119 [==============================] - 0s 2ms/step - loss: 31133313024.0000 - val_loss: 29430933504.0000\n",
            "Epoch 193/400\n",
            "119/119 [==============================] - 0s 3ms/step - loss: 31225448448.0000 - val_loss: 29268342784.0000\n",
            "Epoch 194/400\n",
            "119/119 [==============================] - 0s 3ms/step - loss: 31104489472.0000 - val_loss: 29242177536.0000\n",
            "Epoch 195/400\n",
            "119/119 [==============================] - 0s 2ms/step - loss: 31108485120.0000 - val_loss: 29227438080.0000\n",
            "Epoch 196/400\n",
            "119/119 [==============================] - 0s 3ms/step - loss: 31101802496.0000 - val_loss: 29236396032.0000\n",
            "Epoch 197/400\n",
            "119/119 [==============================] - 0s 2ms/step - loss: 31122694144.0000 - val_loss: 29165942784.0000\n",
            "Epoch 198/400\n",
            "119/119 [==============================] - 0s 3ms/step - loss: 31037575168.0000 - val_loss: 29172953088.0000\n",
            "Epoch 199/400\n",
            "119/119 [==============================] - 0s 3ms/step - loss: 31074445312.0000 - val_loss: 29287233536.0000\n",
            "Epoch 200/400\n",
            "119/119 [==============================] - 0s 2ms/step - loss: 31037399040.0000 - val_loss: 29091366912.0000\n",
            "Epoch 201/400\n",
            "119/119 [==============================] - 0s 3ms/step - loss: 31008600064.0000 - val_loss: 29089662976.0000\n",
            "Epoch 202/400\n",
            "119/119 [==============================] - 0s 3ms/step - loss: 30974105600.0000 - val_loss: 29059543040.0000\n",
            "Epoch 203/400\n",
            "119/119 [==============================] - 0s 2ms/step - loss: 30951061504.0000 - val_loss: 29063174144.0000\n",
            "Epoch 204/400\n",
            "119/119 [==============================] - 0s 2ms/step - loss: 30949998592.0000 - val_loss: 29307183104.0000\n",
            "Epoch 205/400\n",
            "119/119 [==============================] - 0s 3ms/step - loss: 30982496256.0000 - val_loss: 29047046144.0000\n",
            "Epoch 206/400\n",
            "119/119 [==============================] - 0s 3ms/step - loss: 30974978048.0000 - val_loss: 28947234816.0000\n",
            "Epoch 207/400\n",
            "119/119 [==============================] - 0s 3ms/step - loss: 30895480832.0000 - val_loss: 28914022400.0000\n",
            "Epoch 208/400\n",
            "119/119 [==============================] - 0s 3ms/step - loss: 30924314624.0000 - val_loss: 28903088128.0000\n",
            "Epoch 209/400\n",
            "119/119 [==============================] - 0s 2ms/step - loss: 30875516928.0000 - val_loss: 29020116992.0000\n",
            "Epoch 210/400\n",
            "119/119 [==============================] - 0s 3ms/step - loss: 30980868096.0000 - val_loss: 28878927872.0000\n",
            "Epoch 211/400\n",
            "119/119 [==============================] - 0s 2ms/step - loss: 30860081152.0000 - val_loss: 28872560640.0000\n",
            "Epoch 212/400\n",
            "119/119 [==============================] - 0s 2ms/step - loss: 30853791744.0000 - val_loss: 28833583104.0000\n",
            "Epoch 213/400\n",
            "119/119 [==============================] - 0s 3ms/step - loss: 30826840064.0000 - val_loss: 28807731200.0000\n",
            "Epoch 214/400\n",
            "119/119 [==============================] - 0s 3ms/step - loss: 30802405376.0000 - val_loss: 28878970880.0000\n",
            "Epoch 215/400\n",
            "119/119 [==============================] - 0s 2ms/step - loss: 30805202944.0000 - val_loss: 28771409920.0000\n",
            "Epoch 216/400\n",
            "119/119 [==============================] - 0s 3ms/step - loss: 30740498432.0000 - val_loss: 28766406656.0000\n",
            "Epoch 217/400\n",
            "119/119 [==============================] - 0s 2ms/step - loss: 30727995392.0000 - val_loss: 28727095296.0000\n",
            "Epoch 218/400\n",
            "119/119 [==============================] - 0s 3ms/step - loss: 30735972352.0000 - val_loss: 28724105216.0000\n",
            "Epoch 219/400\n",
            "119/119 [==============================] - 0s 2ms/step - loss: 30734090240.0000 - val_loss: 28696117248.0000\n",
            "Epoch 220/400\n",
            "119/119 [==============================] - 0s 3ms/step - loss: 30775824384.0000 - val_loss: 28812822528.0000\n",
            "Epoch 221/400\n",
            "119/119 [==============================] - 0s 3ms/step - loss: 30701357056.0000 - val_loss: 28737323008.0000\n",
            "Epoch 222/400\n",
            "119/119 [==============================] - 0s 3ms/step - loss: 30671374336.0000 - val_loss: 28671232000.0000\n",
            "Epoch 223/400\n",
            "119/119 [==============================] - 0s 2ms/step - loss: 30652299264.0000 - val_loss: 28653387776.0000\n",
            "Epoch 224/400\n",
            "119/119 [==============================] - 0s 3ms/step - loss: 30633392128.0000 - val_loss: 28638027776.0000\n",
            "Epoch 225/400\n",
            "119/119 [==============================] - 0s 3ms/step - loss: 30636306432.0000 - val_loss: 28596717568.0000\n",
            "Epoch 226/400\n",
            "119/119 [==============================] - 0s 3ms/step - loss: 30680485888.0000 - val_loss: 28594847744.0000\n",
            "Epoch 227/400\n",
            "119/119 [==============================] - 0s 3ms/step - loss: 30629115904.0000 - val_loss: 28561121280.0000\n",
            "Epoch 228/400\n",
            "119/119 [==============================] - 0s 2ms/step - loss: 30609008640.0000 - val_loss: 28548859904.0000\n",
            "Epoch 229/400\n",
            "119/119 [==============================] - 0s 2ms/step - loss: 30598187008.0000 - val_loss: 28525295616.0000\n",
            "Epoch 230/400\n",
            "119/119 [==============================] - 0s 2ms/step - loss: 30591817728.0000 - val_loss: 28532576256.0000\n",
            "Epoch 231/400\n",
            "119/119 [==============================] - 0s 2ms/step - loss: 30535520256.0000 - val_loss: 28499677184.0000\n",
            "Epoch 232/400\n",
            "119/119 [==============================] - 0s 3ms/step - loss: 30525759488.0000 - val_loss: 28475484160.0000\n",
            "Epoch 233/400\n",
            "119/119 [==============================] - 0s 3ms/step - loss: 30533326848.0000 - val_loss: 28453691392.0000\n",
            "Epoch 234/400\n",
            "119/119 [==============================] - 0s 3ms/step - loss: 30519035904.0000 - val_loss: 28437368832.0000\n",
            "Epoch 235/400\n",
            "119/119 [==============================] - 0s 2ms/step - loss: 30568140800.0000 - val_loss: 28394231808.0000\n",
            "Epoch 236/400\n",
            "119/119 [==============================] - 0s 3ms/step - loss: 30480631808.0000 - val_loss: 28397326336.0000\n",
            "Epoch 237/400\n",
            "119/119 [==============================] - 0s 3ms/step - loss: 30469382144.0000 - val_loss: 28354732032.0000\n",
            "Epoch 238/400\n",
            "119/119 [==============================] - 0s 2ms/step - loss: 30465429504.0000 - val_loss: 28452255744.0000\n",
            "Epoch 239/400\n",
            "119/119 [==============================] - 0s 2ms/step - loss: 30499735552.0000 - val_loss: 28339881984.0000\n",
            "Epoch 240/400\n",
            "119/119 [==============================] - 0s 2ms/step - loss: 30461374464.0000 - val_loss: 28340944896.0000\n",
            "Epoch 241/400\n",
            "119/119 [==============================] - 0s 2ms/step - loss: 30418081792.0000 - val_loss: 28326311936.0000\n",
            "Epoch 242/400\n",
            "119/119 [==============================] - 0s 3ms/step - loss: 30395492352.0000 - val_loss: 28328642560.0000\n",
            "Epoch 243/400\n",
            "119/119 [==============================] - 0s 3ms/step - loss: 30467213312.0000 - val_loss: 28346595328.0000\n",
            "Epoch 244/400\n",
            "119/119 [==============================] - 0s 3ms/step - loss: 30426466304.0000 - val_loss: 28284030976.0000\n",
            "Epoch 245/400\n",
            "119/119 [==============================] - 0s 3ms/step - loss: 30400516096.0000 - val_loss: 28225157120.0000\n",
            "Epoch 246/400\n",
            "119/119 [==============================] - 0s 2ms/step - loss: 30382612480.0000 - val_loss: 28242493440.0000\n",
            "Epoch 247/400\n",
            "119/119 [==============================] - 0s 3ms/step - loss: 30317361152.0000 - val_loss: 28217653248.0000\n",
            "Epoch 248/400\n",
            "119/119 [==============================] - 0s 2ms/step - loss: 30385096704.0000 - val_loss: 28228782080.0000\n",
            "Epoch 249/400\n",
            "119/119 [==============================] - 0s 2ms/step - loss: 30314989568.0000 - val_loss: 28197015552.0000\n",
            "Epoch 250/400\n",
            "119/119 [==============================] - 0s 2ms/step - loss: 30368055296.0000 - val_loss: 28291637248.0000\n",
            "Epoch 251/400\n",
            "119/119 [==============================] - 0s 3ms/step - loss: 30376300544.0000 - val_loss: 28131346432.0000\n",
            "Epoch 252/400\n",
            "119/119 [==============================] - 0s 2ms/step - loss: 30276669440.0000 - val_loss: 28155666432.0000\n",
            "Epoch 253/400\n",
            "119/119 [==============================] - 0s 2ms/step - loss: 30267635712.0000 - val_loss: 28231626752.0000\n",
            "Epoch 254/400\n",
            "119/119 [==============================] - 0s 3ms/step - loss: 30286098432.0000 - val_loss: 28106608640.0000\n",
            "Epoch 255/400\n",
            "119/119 [==============================] - 0s 3ms/step - loss: 30287706112.0000 - val_loss: 28137949184.0000\n",
            "Epoch 256/400\n",
            "119/119 [==============================] - 0s 3ms/step - loss: 30231857152.0000 - val_loss: 28132198400.0000\n",
            "Epoch 257/400\n",
            "119/119 [==============================] - 0s 3ms/step - loss: 30264195072.0000 - val_loss: 28069339136.0000\n",
            "Epoch 258/400\n",
            "119/119 [==============================] - 0s 3ms/step - loss: 30209495040.0000 - val_loss: 28100653056.0000\n",
            "Epoch 259/400\n",
            "119/119 [==============================] - 0s 3ms/step - loss: 30239025152.0000 - val_loss: 28040136704.0000\n",
            "Epoch 260/400\n",
            "119/119 [==============================] - 0s 3ms/step - loss: 30258485248.0000 - val_loss: 28014985216.0000\n",
            "Epoch 261/400\n",
            "119/119 [==============================] - 0s 2ms/step - loss: 30206175232.0000 - val_loss: 28027234304.0000\n",
            "Epoch 262/400\n",
            "119/119 [==============================] - 0s 3ms/step - loss: 30184376320.0000 - val_loss: 28177991680.0000\n",
            "Epoch 263/400\n",
            "119/119 [==============================] - 0s 2ms/step - loss: 30164338688.0000 - val_loss: 28094830592.0000\n",
            "Epoch 264/400\n",
            "119/119 [==============================] - 0s 3ms/step - loss: 30195746816.0000 - val_loss: 27960408064.0000\n",
            "Epoch 265/400\n",
            "119/119 [==============================] - 0s 3ms/step - loss: 30187513856.0000 - val_loss: 27954085888.0000\n",
            "Epoch 266/400\n",
            "119/119 [==============================] - 0s 2ms/step - loss: 30124003328.0000 - val_loss: 27959787520.0000\n",
            "Epoch 267/400\n",
            "119/119 [==============================] - 0s 3ms/step - loss: 30160988160.0000 - val_loss: 27880370176.0000\n",
            "Epoch 268/400\n",
            "119/119 [==============================] - 0s 3ms/step - loss: 30115207168.0000 - val_loss: 27959840768.0000\n",
            "Epoch 269/400\n",
            "119/119 [==============================] - 0s 3ms/step - loss: 30122082304.0000 - val_loss: 27957532672.0000\n",
            "Epoch 270/400\n",
            "119/119 [==============================] - 0s 3ms/step - loss: 30064951296.0000 - val_loss: 27912919040.0000\n",
            "Epoch 271/400\n",
            "119/119 [==============================] - 0s 3ms/step - loss: 30112016384.0000 - val_loss: 27867277312.0000\n",
            "Epoch 272/400\n",
            "119/119 [==============================] - 0s 2ms/step - loss: 30108876800.0000 - val_loss: 27870464000.0000\n",
            "Epoch 273/400\n",
            "119/119 [==============================] - 0s 3ms/step - loss: 30050889728.0000 - val_loss: 27844798464.0000\n",
            "Epoch 274/400\n",
            "119/119 [==============================] - 0s 3ms/step - loss: 30061152256.0000 - val_loss: 27810011136.0000\n",
            "Epoch 275/400\n",
            "119/119 [==============================] - 0s 3ms/step - loss: 30044712960.0000 - val_loss: 27768743936.0000\n",
            "Epoch 276/400\n",
            "119/119 [==============================] - 0s 3ms/step - loss: 30021664768.0000 - val_loss: 27784892416.0000\n",
            "Epoch 277/400\n",
            "119/119 [==============================] - 0s 3ms/step - loss: 30034507776.0000 - val_loss: 27830425600.0000\n",
            "Epoch 278/400\n",
            "119/119 [==============================] - 0s 3ms/step - loss: 30000910336.0000 - val_loss: 27873196032.0000\n",
            "Epoch 279/400\n",
            "119/119 [==============================] - 0s 2ms/step - loss: 29969909760.0000 - val_loss: 27723108352.0000\n",
            "Epoch 280/400\n",
            "119/119 [==============================] - 0s 3ms/step - loss: 29962760192.0000 - val_loss: 27838892032.0000\n",
            "Epoch 281/400\n",
            "119/119 [==============================] - 0s 3ms/step - loss: 29975969792.0000 - val_loss: 27723014144.0000\n",
            "Epoch 282/400\n",
            "119/119 [==============================] - 0s 3ms/step - loss: 29972641792.0000 - val_loss: 27682521088.0000\n",
            "Epoch 283/400\n",
            "119/119 [==============================] - 0s 3ms/step - loss: 29922658304.0000 - val_loss: 27699544064.0000\n",
            "Epoch 284/400\n",
            "119/119 [==============================] - 0s 3ms/step - loss: 29953624064.0000 - val_loss: 27690293248.0000\n",
            "Epoch 285/400\n",
            "119/119 [==============================] - 0s 3ms/step - loss: 29925410816.0000 - val_loss: 27660447744.0000\n",
            "Epoch 286/400\n",
            "119/119 [==============================] - 0s 3ms/step - loss: 29897074688.0000 - val_loss: 27723339776.0000\n",
            "Epoch 287/400\n",
            "119/119 [==============================] - 0s 3ms/step - loss: 29858494464.0000 - val_loss: 27644676096.0000\n",
            "Epoch 288/400\n",
            "119/119 [==============================] - 0s 3ms/step - loss: 29919457280.0000 - val_loss: 27599187968.0000\n",
            "Epoch 289/400\n",
            "119/119 [==============================] - 0s 3ms/step - loss: 29857986560.0000 - val_loss: 27638013952.0000\n",
            "Epoch 290/400\n",
            "119/119 [==============================] - 0s 3ms/step - loss: 29845995520.0000 - val_loss: 27920267264.0000\n",
            "Epoch 291/400\n",
            "119/119 [==============================] - 0s 2ms/step - loss: 29906143232.0000 - val_loss: 27597938688.0000\n",
            "Epoch 292/400\n",
            "119/119 [==============================] - 0s 3ms/step - loss: 29868001280.0000 - val_loss: 27540254720.0000\n",
            "Epoch 293/400\n",
            "119/119 [==============================] - 0s 2ms/step - loss: 29851179008.0000 - val_loss: 27556990976.0000\n",
            "Epoch 294/400\n",
            "119/119 [==============================] - 0s 3ms/step - loss: 29787406336.0000 - val_loss: 27502299136.0000\n",
            "Epoch 295/400\n",
            "119/119 [==============================] - 0s 2ms/step - loss: 29819566080.0000 - val_loss: 27502264320.0000\n",
            "Epoch 296/400\n",
            "119/119 [==============================] - 0s 3ms/step - loss: 29816506368.0000 - val_loss: 27529875456.0000\n",
            "Epoch 297/400\n",
            "119/119 [==============================] - 0s 2ms/step - loss: 29810196480.0000 - val_loss: 27560628224.0000\n",
            "Epoch 298/400\n",
            "119/119 [==============================] - 0s 3ms/step - loss: 29787389952.0000 - val_loss: 27424276480.0000\n",
            "Epoch 299/400\n",
            "119/119 [==============================] - 0s 3ms/step - loss: 29783644160.0000 - val_loss: 27503417344.0000\n",
            "Epoch 300/400\n",
            "119/119 [==============================] - 0s 3ms/step - loss: 29745197056.0000 - val_loss: 27469527040.0000\n",
            "Epoch 301/400\n",
            "119/119 [==============================] - 0s 3ms/step - loss: 29789661184.0000 - val_loss: 27433388032.0000\n",
            "Epoch 302/400\n",
            "119/119 [==============================] - 0s 3ms/step - loss: 29751699456.0000 - val_loss: 27409119232.0000\n",
            "Epoch 303/400\n",
            "119/119 [==============================] - 0s 3ms/step - loss: 29733308416.0000 - val_loss: 27610753024.0000\n",
            "Epoch 304/400\n",
            "119/119 [==============================] - 0s 3ms/step - loss: 29705066496.0000 - val_loss: 27400175616.0000\n",
            "Epoch 305/400\n",
            "119/119 [==============================] - 0s 2ms/step - loss: 29702973440.0000 - val_loss: 27352381440.0000\n",
            "Epoch 306/400\n",
            "119/119 [==============================] - 0s 3ms/step - loss: 29688512512.0000 - val_loss: 27356585984.0000\n",
            "Epoch 307/400\n",
            "119/119 [==============================] - 0s 2ms/step - loss: 29669910528.0000 - val_loss: 27321106432.0000\n",
            "Epoch 308/400\n",
            "119/119 [==============================] - 0s 3ms/step - loss: 29685954560.0000 - val_loss: 27333939200.0000\n",
            "Epoch 309/400\n",
            "119/119 [==============================] - 0s 3ms/step - loss: 29666121728.0000 - val_loss: 27429980160.0000\n",
            "Epoch 310/400\n",
            "119/119 [==============================] - 0s 3ms/step - loss: 29711693824.0000 - val_loss: 27318509568.0000\n",
            "Epoch 311/400\n",
            "119/119 [==============================] - 0s 3ms/step - loss: 29678372864.0000 - val_loss: 27266816000.0000\n",
            "Epoch 312/400\n",
            "119/119 [==============================] - 0s 3ms/step - loss: 29624963072.0000 - val_loss: 27299209216.0000\n",
            "Epoch 313/400\n",
            "119/119 [==============================] - 0s 3ms/step - loss: 29627695104.0000 - val_loss: 27280082944.0000\n",
            "Epoch 314/400\n",
            "119/119 [==============================] - 0s 3ms/step - loss: 29583351808.0000 - val_loss: 27255146496.0000\n",
            "Epoch 315/400\n",
            "119/119 [==============================] - 0s 3ms/step - loss: 29609838592.0000 - val_loss: 27219265536.0000\n",
            "Epoch 316/400\n",
            "119/119 [==============================] - 0s 3ms/step - loss: 29591404544.0000 - val_loss: 27286370304.0000\n",
            "Epoch 317/400\n",
            "119/119 [==============================] - 0s 3ms/step - loss: 29579059200.0000 - val_loss: 27381899264.0000\n",
            "Epoch 318/400\n",
            "119/119 [==============================] - 0s 3ms/step - loss: 29548369920.0000 - val_loss: 27223300096.0000\n",
            "Epoch 319/400\n",
            "119/119 [==============================] - 0s 3ms/step - loss: 29565472768.0000 - val_loss: 27359217664.0000\n",
            "Epoch 320/400\n",
            "119/119 [==============================] - 0s 3ms/step - loss: 29610121216.0000 - val_loss: 27168894976.0000\n",
            "Epoch 321/400\n",
            "119/119 [==============================] - 0s 3ms/step - loss: 29537929216.0000 - val_loss: 27312232448.0000\n",
            "Epoch 322/400\n",
            "119/119 [==============================] - 0s 3ms/step - loss: 29535440896.0000 - val_loss: 27246690304.0000\n",
            "Epoch 323/400\n",
            "119/119 [==============================] - 0s 3ms/step - loss: 29507424256.0000 - val_loss: 27139858432.0000\n",
            "Epoch 324/400\n",
            "119/119 [==============================] - 0s 3ms/step - loss: 29540818944.0000 - val_loss: 27125874688.0000\n",
            "Epoch 325/400\n",
            "119/119 [==============================] - 0s 3ms/step - loss: 29524019200.0000 - val_loss: 27147296768.0000\n",
            "Epoch 326/400\n",
            "119/119 [==============================] - 0s 3ms/step - loss: 29475299328.0000 - val_loss: 27113695232.0000\n",
            "Epoch 327/400\n",
            "119/119 [==============================] - 0s 3ms/step - loss: 29455839232.0000 - val_loss: 27110510592.0000\n",
            "Epoch 328/400\n",
            "119/119 [==============================] - 0s 3ms/step - loss: 29436760064.0000 - val_loss: 27098851328.0000\n",
            "Epoch 329/400\n",
            "119/119 [==============================] - 0s 3ms/step - loss: 29439152128.0000 - val_loss: 27091324928.0000\n",
            "Epoch 330/400\n",
            "119/119 [==============================] - 0s 3ms/step - loss: 29439846400.0000 - val_loss: 27098484736.0000\n",
            "Epoch 331/400\n",
            "119/119 [==============================] - 0s 3ms/step - loss: 29437513728.0000 - val_loss: 27067303936.0000\n",
            "Epoch 332/400\n",
            "119/119 [==============================] - 0s 3ms/step - loss: 29595027456.0000 - val_loss: 27084691456.0000\n",
            "Epoch 333/400\n",
            "119/119 [==============================] - 0s 3ms/step - loss: 29418293248.0000 - val_loss: 27075796992.0000\n",
            "Epoch 334/400\n",
            "119/119 [==============================] - 0s 3ms/step - loss: 29449482240.0000 - val_loss: 27078600704.0000\n",
            "Epoch 335/400\n",
            "119/119 [==============================] - 0s 3ms/step - loss: 29373968384.0000 - val_loss: 27026745344.0000\n",
            "Epoch 336/400\n",
            "119/119 [==============================] - 0s 3ms/step - loss: 29373710336.0000 - val_loss: 27052281856.0000\n",
            "Epoch 337/400\n",
            "119/119 [==============================] - 0s 3ms/step - loss: 29349507072.0000 - val_loss: 27260346368.0000\n",
            "Epoch 338/400\n",
            "119/119 [==============================] - 0s 3ms/step - loss: 29394024448.0000 - val_loss: 27005782016.0000\n",
            "Epoch 339/400\n",
            "119/119 [==============================] - 0s 3ms/step - loss: 29354948608.0000 - val_loss: 27095109632.0000\n",
            "Epoch 340/400\n",
            "119/119 [==============================] - 0s 3ms/step - loss: 29294309376.0000 - val_loss: 27002638336.0000\n",
            "Epoch 341/400\n",
            "119/119 [==============================] - 0s 3ms/step - loss: 29348737024.0000 - val_loss: 26974148608.0000\n",
            "Epoch 342/400\n",
            "119/119 [==============================] - 0s 3ms/step - loss: 29265104896.0000 - val_loss: 26915311616.0000\n",
            "Epoch 343/400\n",
            "119/119 [==============================] - 0s 3ms/step - loss: 29286090752.0000 - val_loss: 26933295104.0000\n",
            "Epoch 344/400\n",
            "119/119 [==============================] - 0s 3ms/step - loss: 29276237824.0000 - val_loss: 26902421504.0000\n",
            "Epoch 345/400\n",
            "119/119 [==============================] - 0s 3ms/step - loss: 29285416960.0000 - val_loss: 26939734016.0000\n",
            "Epoch 346/400\n",
            "119/119 [==============================] - 0s 3ms/step - loss: 29231724544.0000 - val_loss: 26861182976.0000\n",
            "Epoch 347/400\n",
            "119/119 [==============================] - 0s 3ms/step - loss: 29264502784.0000 - val_loss: 26882359296.0000\n",
            "Epoch 348/400\n",
            "119/119 [==============================] - 0s 3ms/step - loss: 29238984704.0000 - val_loss: 26872219648.0000\n",
            "Epoch 349/400\n",
            "119/119 [==============================] - 0s 3ms/step - loss: 29249392640.0000 - val_loss: 26846121984.0000\n",
            "Epoch 350/400\n",
            "119/119 [==============================] - 0s 3ms/step - loss: 29187792896.0000 - val_loss: 26877286400.0000\n",
            "Epoch 351/400\n",
            "119/119 [==============================] - 0s 3ms/step - loss: 29208195072.0000 - val_loss: 26845423616.0000\n",
            "Epoch 352/400\n",
            "119/119 [==============================] - 0s 3ms/step - loss: 29144545280.0000 - val_loss: 26928107520.0000\n",
            "Epoch 353/400\n",
            "119/119 [==============================] - 0s 3ms/step - loss: 29174243328.0000 - val_loss: 26904057856.0000\n",
            "Epoch 354/400\n",
            "119/119 [==============================] - 0s 3ms/step - loss: 29138739200.0000 - val_loss: 26793947136.0000\n",
            "Epoch 355/400\n",
            "119/119 [==============================] - 0s 3ms/step - loss: 29161101312.0000 - val_loss: 26815129600.0000\n",
            "Epoch 356/400\n",
            "119/119 [==============================] - 0s 3ms/step - loss: 29139888128.0000 - val_loss: 26779138048.0000\n",
            "Epoch 357/400\n",
            "119/119 [==============================] - 0s 3ms/step - loss: 29133430784.0000 - val_loss: 26757982208.0000\n",
            "Epoch 358/400\n",
            "119/119 [==============================] - 0s 3ms/step - loss: 29127923712.0000 - val_loss: 26770550784.0000\n",
            "Epoch 359/400\n",
            "119/119 [==============================] - 0s 3ms/step - loss: 29125828608.0000 - val_loss: 26898038784.0000\n",
            "Epoch 360/400\n",
            "119/119 [==============================] - 0s 3ms/step - loss: 29071087616.0000 - val_loss: 26790742016.0000\n",
            "Epoch 361/400\n",
            "119/119 [==============================] - 0s 3ms/step - loss: 29058418688.0000 - val_loss: 26902001664.0000\n",
            "Epoch 362/400\n",
            "119/119 [==============================] - 0s 2ms/step - loss: 29060089856.0000 - val_loss: 26714845184.0000\n",
            "Epoch 363/400\n",
            "119/119 [==============================] - 0s 3ms/step - loss: 29030543360.0000 - val_loss: 26675120128.0000\n",
            "Epoch 364/400\n",
            "119/119 [==============================] - 0s 2ms/step - loss: 29040441344.0000 - val_loss: 26674538496.0000\n",
            "Epoch 365/400\n",
            "119/119 [==============================] - 0s 3ms/step - loss: 29020059648.0000 - val_loss: 26636546048.0000\n",
            "Epoch 366/400\n",
            "119/119 [==============================] - 0s 3ms/step - loss: 29009272832.0000 - val_loss: 26618089472.0000\n",
            "Epoch 367/400\n",
            "119/119 [==============================] - 0s 3ms/step - loss: 29069606912.0000 - val_loss: 26644756480.0000\n",
            "Epoch 368/400\n",
            "119/119 [==============================] - 0s 3ms/step - loss: 28925906944.0000 - val_loss: 26679529472.0000\n",
            "Epoch 369/400\n",
            "119/119 [==============================] - 0s 3ms/step - loss: 28942702592.0000 - val_loss: 26611152896.0000\n",
            "Epoch 370/400\n",
            "119/119 [==============================] - 0s 3ms/step - loss: 28916611072.0000 - val_loss: 26578341888.0000\n",
            "Epoch 371/400\n",
            "119/119 [==============================] - 0s 2ms/step - loss: 28931506176.0000 - val_loss: 26677760000.0000\n",
            "Epoch 372/400\n",
            "119/119 [==============================] - 0s 3ms/step - loss: 28921690112.0000 - val_loss: 26588477440.0000\n",
            "Epoch 373/400\n",
            "119/119 [==============================] - 0s 3ms/step - loss: 28910958592.0000 - val_loss: 26622812160.0000\n",
            "Epoch 374/400\n",
            "119/119 [==============================] - 0s 3ms/step - loss: 28995123200.0000 - val_loss: 26554580992.0000\n",
            "Epoch 375/400\n",
            "119/119 [==============================] - 0s 3ms/step - loss: 28881750016.0000 - val_loss: 26559692800.0000\n",
            "Epoch 376/400\n",
            "119/119 [==============================] - 0s 3ms/step - loss: 28820006912.0000 - val_loss: 26539122688.0000\n",
            "Epoch 377/400\n",
            "119/119 [==============================] - 0s 2ms/step - loss: 28929179648.0000 - val_loss: 26473359360.0000\n",
            "Epoch 378/400\n",
            "119/119 [==============================] - 0s 3ms/step - loss: 28849227776.0000 - val_loss: 26680760320.0000\n",
            "Epoch 379/400\n",
            "119/119 [==============================] - 0s 3ms/step - loss: 28889933824.0000 - val_loss: 26475227136.0000\n",
            "Epoch 380/400\n",
            "119/119 [==============================] - 0s 3ms/step - loss: 28835643392.0000 - val_loss: 26589741056.0000\n",
            "Epoch 381/400\n",
            "119/119 [==============================] - 0s 3ms/step - loss: 28792090624.0000 - val_loss: 26433443840.0000\n",
            "Epoch 382/400\n",
            "119/119 [==============================] - 0s 3ms/step - loss: 28851214336.0000 - val_loss: 26450335744.0000\n",
            "Epoch 383/400\n",
            "119/119 [==============================] - 0s 3ms/step - loss: 28755009536.0000 - val_loss: 26549055488.0000\n",
            "Epoch 384/400\n",
            "119/119 [==============================] - 0s 3ms/step - loss: 28763611136.0000 - val_loss: 26387169280.0000\n",
            "Epoch 385/400\n",
            "119/119 [==============================] - 0s 3ms/step - loss: 28876175360.0000 - val_loss: 26421868544.0000\n",
            "Epoch 386/400\n",
            "119/119 [==============================] - 0s 2ms/step - loss: 28745396224.0000 - val_loss: 26538143744.0000\n",
            "Epoch 387/400\n",
            "119/119 [==============================] - 0s 3ms/step - loss: 28715446272.0000 - val_loss: 26412339200.0000\n",
            "Epoch 388/400\n",
            "119/119 [==============================] - 0s 3ms/step - loss: 28736161792.0000 - val_loss: 26424285184.0000\n",
            "Epoch 389/400\n",
            "119/119 [==============================] - 0s 3ms/step - loss: 28701276160.0000 - val_loss: 26419929088.0000\n",
            "Epoch 390/400\n",
            "119/119 [==============================] - 0s 3ms/step - loss: 28723290112.0000 - val_loss: 26366691328.0000\n",
            "Epoch 391/400\n",
            "119/119 [==============================] - 0s 3ms/step - loss: 28682094592.0000 - val_loss: 26397743104.0000\n",
            "Epoch 392/400\n",
            "119/119 [==============================] - 0s 3ms/step - loss: 28689377280.0000 - val_loss: 26329966592.0000\n",
            "Epoch 393/400\n",
            "119/119 [==============================] - 0s 3ms/step - loss: 28681842688.0000 - val_loss: 26404192256.0000\n",
            "Epoch 394/400\n",
            "119/119 [==============================] - 0s 3ms/step - loss: 28651712512.0000 - val_loss: 26302597120.0000\n",
            "Epoch 395/400\n",
            "119/119 [==============================] - 0s 3ms/step - loss: 28628449280.0000 - val_loss: 26350929920.0000\n",
            "Epoch 396/400\n",
            "119/119 [==============================] - 0s 3ms/step - loss: 28605435904.0000 - val_loss: 26270169088.0000\n",
            "Epoch 397/400\n",
            "119/119 [==============================] - 0s 3ms/step - loss: 28587757568.0000 - val_loss: 26267899904.0000\n",
            "Epoch 398/400\n",
            "119/119 [==============================] - 0s 3ms/step - loss: 28561186816.0000 - val_loss: 26266742784.0000\n",
            "Epoch 399/400\n",
            "119/119 [==============================] - 0s 3ms/step - loss: 28570640384.0000 - val_loss: 26220658688.0000\n",
            "Epoch 400/400\n",
            "119/119 [==============================] - 0s 3ms/step - loss: 28569344000.0000 - val_loss: 26185160704.0000\n"
          ],
          "name": "stdout"
        },
        {
          "output_type": "execute_result",
          "data": {
            "text/plain": [
              "<keras.callbacks.History at 0x7f1423263b10>"
            ]
          },
          "metadata": {},
          "execution_count": 43
        }
      ]
    },
    {
      "cell_type": "markdown",
      "metadata": {
        "id": "XHzwkuDbdjQ0"
      },
      "source": [
        "##**Model Evaluation and Prediction**"
      ]
    },
    {
      "cell_type": "markdown",
      "metadata": {
        "id": "zMN_QsnyeCRd"
      },
      "source": [
        "Now we will check whether the model has overfitted or not"
      ]
    },
    {
      "cell_type": "code",
      "metadata": {
        "id": "-xPwDDD0dtnZ"
      },
      "source": [
        "losses = pd.DataFrame(model.history.history)"
      ],
      "execution_count": null,
      "outputs": []
    },
    {
      "cell_type": "code",
      "metadata": {
        "colab": {
          "base_uri": "https://localhost:8080/",
          "height": 293
        },
        "id": "Kk-2KrkceJ9H",
        "outputId": "d3e5b714-2c3f-435c-fa56-ef2ee533cc0a"
      },
      "source": [
        "losses.plot()"
      ],
      "execution_count": null,
      "outputs": [
        {
          "output_type": "execute_result",
          "data": {
            "text/plain": [
              "<matplotlib.axes._subplots.AxesSubplot at 0x7f141fa12ad0>"
            ]
          },
          "metadata": {},
          "execution_count": 45
        },
        {
          "output_type": "display_data",
          "data": {
            "image/png": "[encoded data removed]",
            "text/plain": [
              "<Figure size 432x288 with 1 Axes>"
            ]
          },
          "metadata": {
            "needs_background": "light"
          }
        }
      ]
    },
    {
      "cell_type": "markdown",
      "metadata": {
        "id": "EVtN8HQCeSkS"
      },
      "source": [
        "There is a decrease in both the losses, that is, training and validation and there is no increase in the validation dataset"
      ]
    },
    {
      "cell_type": "code",
      "metadata": {
        "id": "tcht6ltbeM0R"
      },
      "source": [
        "from sklearn.metrics import mean_squared_error,mean_absolute_error,explained_variance_score"
      ],
      "execution_count": null,
      "outputs": []
    },
    {
      "cell_type": "code",
      "metadata": {
        "id": "ho4nZCvKflNp"
      },
      "source": [
        "predictions = model.predict(X_test)"
      ],
      "execution_count": null,
      "outputs": []
    },
    {
      "cell_type": "code",
      "metadata": {
        "colab": {
          "base_uri": "https://localhost:8080/"
        },
        "id": "Gk7Fpvz1fpVx",
        "outputId": "b0af4c15-62f0-41dc-9d2d-a22b6f5cc8c9"
      },
      "source": [
        "mean_squared_error(y_test,predictions)"
      ],
      "execution_count": null,
      "outputs": [
        {
          "output_type": "execute_result",
          "data": {
            "text/plain": [
              "26185162222.33924"
            ]
          },
          "metadata": {},
          "execution_count": 48
        }
      ]
    },
    {
      "cell_type": "code",
      "metadata": {
        "colab": {
          "base_uri": "https://localhost:8080/"
        },
        "id": "UGkxWMkif1KT",
        "outputId": "34157e42-56d1-4fb7-a750-fdfc31482abb"
      },
      "source": [
        "rms = np.sqrt(mean_squared_error(y_test,predictions))\n",
        "print(rms)"
      ],
      "execution_count": null,
      "outputs": [
        {
          "output_type": "stream",
          "text": [
            "161818.3000230173\n"
          ],
          "name": "stdout"
        }
      ]
    },
    {
      "cell_type": "code",
      "metadata": {
        "colab": {
          "base_uri": "https://localhost:8080/"
        },
        "id": "m951X_JNgB5J",
        "outputId": "698e8202-54a5-4b24-d144-4f9623bce437"
      },
      "source": [
        "mean_absolute_error(y_test,predictions)"
      ],
      "execution_count": null,
      "outputs": [
        {
          "output_type": "execute_result",
          "data": {
            "text/plain": [
              "99866.20362533757"
            ]
          },
          "metadata": {},
          "execution_count": 51
        }
      ]
    },
    {
      "cell_type": "markdown",
      "metadata": {
        "id": "Sr-kPZrGgR__"
      },
      "source": [
        "This is not a good score as we are off by nearly 20% from the mean price of properties"
      ]
    },
    {
      "cell_type": "code",
      "metadata": {
        "colab": {
          "base_uri": "https://localhost:8080/"
        },
        "id": "YKvCF3xggK3a",
        "outputId": "cf2e61a1-763a-4d72-9b95-b670273a6f9e"
      },
      "source": [
        "explained_variance_score(y_test,predictions)"
      ],
      "execution_count": null,
      "outputs": [
        {
          "output_type": "execute_result",
          "data": {
            "text/plain": [
              "0.8025787438446869"
            ]
          },
          "metadata": {},
          "execution_count": 52
        }
      ]
    },
    {
      "cell_type": "code",
      "metadata": {
        "colab": {
          "base_uri": "https://localhost:8080/",
          "height": 415
        },
        "id": "Qpq4nOYXgecI",
        "outputId": "101c0d69-a509-4834-c0ac-567e93c5edd5"
      },
      "source": [
        "plt.figure(figsize=(10,6))\n",
        "plt.scatter(y_test,predictions)\n",
        "plt.plot(y_test,y_test,'r')"
      ],
      "execution_count": null,
      "outputs": [
        {
          "output_type": "execute_result",
          "data": {
            "text/plain": [
              "[<matplotlib.lines.Line2D at 0x7f1420276e90>]"
            ]
          },
          "metadata": {},
          "execution_count": 55
        },
        {
          "output_type": "display_data",
          "data": {
            "image/png": "[encoded data removed]",
            "text/plain": [
              "<Figure size 720x432 with 1 Axes>"
            ]
          },
          "metadata": {
            "needs_background": "light"
          }
        }
      ]
    },
    {
      "cell_type": "markdown",
      "metadata": {
        "id": "GjG4sij-g1YJ"
      },
      "source": [
        "Red line is the perfect fit but the model is not good due to the outliers present"
      ]
    },
    {
      "cell_type": "code",
      "metadata": {
        "id": "ASjtjKI8glb6"
      },
      "source": [
        ""
      ],
      "execution_count": null,
      "outputs": []
    }
  ]
}